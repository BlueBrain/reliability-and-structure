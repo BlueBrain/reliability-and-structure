{
 "cells": [
  {
   "cell_type": "markdown",
   "id": "d12354c8",
   "metadata": {},
   "source": [
    "# About\n",
    "This notebook describes the steps for running the `TriDy` wrapper `TriDy-tools`, after the parameters have been computed and centers have been chosen, as in the notebook `1_choose_centers.ipynb`."
   ]
  },
  {
   "cell_type": "markdown",
   "id": "e587acbc",
   "metadata": {},
   "source": [
    "# Step 1: Set up the pipeline\n",
    "Execute the following code to set up the TriDy pipeline. Before running the `create_runfiles.py` script, adjust the template `.json` and `.sbatch` files in `configs_templates/` to the coniguration of your directory structure and workload manager. It is suggested to use absolute instead of relative directories."
   ]
  },
  {
   "cell_type": "code",
   "execution_count": null,
   "id": "fbaed34b",
   "metadata": {},
   "outputs": [],
   "source": [
    "# cd TriDy-tools\n",
    "# python create_parameters.py ../configs_templates/create_parameters.config\n",
    "# python create_runfiles.py ../configs_templates/create_runfiles.config"
   ]
  },
  {
   "cell_type": "markdown",
   "id": "7cb57f5a",
   "metadata": {},
   "source": [
    "# Step 2: Run the pipeline\n",
    "If using Slurm, individual `.sbatch` files will be found in `TriDy-tools/sbatches/reliability-{p}`, for every parameter `p`. To simplify repeated commands, the files at `TriDy-tools/runfiles/reliability-{p}.sh` can be executed. These files contain all the `sbatch` commands."
   ]
  },
  {
   "cell_type": "code",
   "execution_count": null,
   "id": "48923a2d",
   "metadata": {},
   "outputs": [],
   "source": [
    "# for f in $(ls runfiles/*.sh); do bash ${f}; done"
   ]
  },
  {
   "cell_type": "markdown",
   "id": "8c819214",
   "metadata": {},
   "source": [
    "# Step 3: Collect the results\n",
    "The classification results (after executing the `collect_results.py` script) will be located in dataframes in `TriDy-tools/dataframes/`. It is suggested to delete the temporary files in all the subfolders in `TriDy-tools/results/`, as they take up a lot of memory."
   ]
  },
  {
   "cell_type": "code",
   "execution_count": null,
   "id": "af177cb1",
   "metadata": {},
   "outputs": [],
   "source": [
    "# python collect_results.py collect_results.config"
   ]
  }
 ],
 "metadata": {
  "kernelspec": {
   "display_name": "Python 3 (ipykernel)",
   "language": "python",
   "name": "python3"
  },
  "language_info": {
   "codemirror_mode": {
    "name": "ipython",
    "version": 3
   },
   "file_extension": ".py",
   "mimetype": "text/x-python",
   "name": "python",
   "nbconvert_exporter": "python",
   "pygments_lexer": "ipython3",
   "version": "3.11.0"
  }
 },
 "nbformat": 4,
 "nbformat_minor": 5
}

{
 "cells": [
  {
   "cell_type": "markdown",
   "id": "4a309ddc",
   "metadata": {},
   "source": [
    "# About\n",
    "This notebook describes how centers were chosen for classifying activity in the BBP circuit. The github repo \"Tribal Dynamics\" (located at [https://github.com/JasonPSmith/TriDy]) is necessary to execute some of the cells in this notebook."
   ]
  },
  {
   "cell_type": "markdown",
   "id": "2eecca9d",
   "metadata": {},
   "source": [
    "# Load packages"
   ]
  },
  {
   "cell_type": "code",
   "execution_count": null,
   "id": "321bb111",
   "metadata": {},
   "outputs": [],
   "source": [
    "import numpy as np\n",
    "import pandas as pd"
   ]
  },
  {
   "cell_type": "markdown",
   "id": "2237b160",
   "metadata": {},
   "source": [
    "## Step 1: Compute parameters\n",
    "To choose the desired centers, parameter values must be computed at all the centers of the circuit."
   ]
  },
  {
   "cell_type": "code",
   "execution_count": null,
   "id": "5f2ab280",
   "metadata": {},
   "outputs": [],
   "source": [
    "# Question for Daniela: I should probably use the package functions here, yes? I don't know how to do that."
   ]
  },
  {
   "cell_type": "markdown",
   "id": "78e97d29",
   "metadata": {},
   "source": [
    "## Step 2: Set up containers for centers"
   ]
  },
  {
   "cell_type": "code",
   "execution_count": null,
   "id": "7115a4a8",
   "metadata": {},
   "outputs": [],
   "source": [
    "# Number of neighborhoods to be used in classify9ing activity\n",
    "number_nbhds = 50\n",
    "\n",
    "data_dict = {'selection':[]}\n",
    "for i in range(number_nbhds):\n",
    "        data_dict['chief'+str(i)] = []"
   ]
  },
  {
   "cell_type": "markdown",
   "id": "00136365",
   "metadata": {},
   "source": [
    "## Step 3.1: Random choices from the excitatory-excitatory subcircuit"
   ]
  },
  {
   "cell_type": "code",
   "execution_count": null,
   "id": "271791a0",
   "metadata": {},
   "outputs": [],
   "source": []
  },
  {
   "cell_type": "markdown",
   "id": "bbdea628",
   "metadata": {},
   "source": [
    "## Step 3.2: Random choices among the 1% densest and 1% sparsest"
   ]
  },
  {
   "cell_type": "code",
   "execution_count": null,
   "id": "bf1bd202",
   "metadata": {},
   "outputs": [],
   "source": []
  },
  {
   "cell_type": "markdown",
   "id": "cce6a3ae",
   "metadata": {},
   "source": [
    "## Step 3.3: Single selection for all parameters"
   ]
  },
  {
   "cell_type": "code",
   "execution_count": null,
   "id": "e82f91b8",
   "metadata": {},
   "outputs": [],
   "source": []
  },
  {
   "cell_type": "markdown",
   "id": "b9ef2db9",
   "metadata": {},
   "source": [
    "## Step 3.4: Double selection for all parameters\n",
    "Restrict to the densest 1% of neighbourhoods in the excitatory-excitatory subcircuit, then from that 1% select centers by their parameter value."
   ]
  },
  {
   "cell_type": "code",
   "execution_count": null,
   "id": "4f86eff2",
   "metadata": {},
   "outputs": [],
   "source": []
  },
  {
   "cell_type": "markdown",
   "id": "1ae3525c",
   "metadata": {},
   "source": [
    "## Step 4: Export final dataframe"
   ]
  },
  {
   "cell_type": "code",
   "execution_count": null,
   "id": "bae0b9e5",
   "metadata": {},
   "outputs": [],
   "source": []
  }
 ],
 "metadata": {
  "kernelspec": {
   "display_name": "Python 3 (ipykernel)",
   "language": "python",
   "name": "python3"
  },
  "language_info": {
   "codemirror_mode": {
    "name": "ipython",
    "version": 3
   },
   "file_extension": ".py",
   "mimetype": "text/x-python",
   "name": "python",
   "nbconvert_exporter": "python",
   "pygments_lexer": "ipython3",
   "version": "3.8.3"
  }
 },
 "nbformat": 4,
 "nbformat_minor": 5
}

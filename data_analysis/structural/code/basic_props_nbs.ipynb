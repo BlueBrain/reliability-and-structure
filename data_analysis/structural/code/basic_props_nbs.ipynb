{
 "cells": [
  {
   "cell_type": "code",
   "execution_count": 1,
   "id": "7b846d7e-5b19-4cc6-b866-66418769fe7b",
   "metadata": {},
   "outputs": [],
   "source": [
    "from connalysis.network import topology, local\n",
    "import conntility\n",
    "import numpy as np\n",
    "import pandas as pd\n",
    "import sys\n",
    "sys.path.append('../../../library')\n",
    "from structural_basic import load_connectome \n",
    "from connalysis import randomization "
   ]
  },
  {
   "cell_type": "code",
   "execution_count": 8,
   "id": "1861973a-d335-4a55-bd57-ccfed02fcbc2",
   "metadata": {},
   "outputs": [],
   "source": [
    "cfg={\n",
    "    \"connectome\":{\n",
    "        \"data_dir\": \"../../data\",\n",
    "        \"name\": \"MICrONS\"\n",
    "    },\n",
    "    \"controls\":{\n",
    "                \"seed\":25,\n",
    "                \"types\":{\n",
    "                    \"configuration_model\":{},\n",
    "                    \"ER_shuffle\":{},\n",
    "                    \"run_DD2\":{\n",
    "                        \"kwargs\":{\n",
    "                            \"a\": 0.06705720999872188,\n",
    "                            \"b\": 1.183000158541148e-05,\n",
    "                            \"xyz_labels\":[\"x_nm\", \"y_nm\", \"z_nm\"]\n",
    "                        }\n",
    "                    }\n",
    "                }\n",
    "            },\n",
    "    \"save_path\":\"../../data\"\n",
    "}"
   ]
  },
  {
   "cell_type": "code",
   "execution_count": null,
   "id": "b8f58545-9de1-41db-87e0-a99d747d64cf",
   "metadata": {},
   "outputs": [],
   "source": [
    "'''\n",
    "Compute basic topological network properites of the neighborhoods of a connectome and its controls\n",
    "Author(s): Daniela Egas S.\n",
    "Last updated: 12.2023\n",
    "'''\n",
    "import json \n",
    "import sys\n",
    "sys.path.append('../../../library')\n",
    "from structural_basic import *\n",
    "\n",
    "def main():\n",
    "    with open(sys.argv[1], \"r\") as f:\n",
    "        cfg=json.load(f)\n",
    "        print(f'Computing {cfg[\"connectome\"][\"name\"]}')\n",
    "        compute_basics_over_nbds_ori_and_controls(cfg)\n",
    "        print(f'Done with {cfg[\"connectome\"][\"name\"]}')\n",
    "\n",
    "if __name__ == '__main__':\n",
    "    main()\n",
    "    "
   ]
  }
 ],
 "metadata": {
  "kernelspec": {
   "display_name": "Python 3 (ipykernel)",
   "language": "python",
   "name": "python3"
  },
  "language_info": {
   "codemirror_mode": {
    "name": "ipython",
    "version": 3
   },
   "file_extension": ".py",
   "mimetype": "text/x-python",
   "name": "python",
   "nbconvert_exporter": "python",
   "pygments_lexer": "ipython3",
   "version": "3.10.8"
  }
 },
 "nbformat": 4,
 "nbformat_minor": 5
}

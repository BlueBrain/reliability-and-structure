{
 "cells": [
  {
   "cell_type": "markdown",
   "id": "96d8cf24-8006-43e7-8085-f4ce96e3df9a",
   "metadata": {},
   "source": [
    "# Effect of possible errors in EM reconstruction \n",
    "\n",
    "From https://www.biorxiv.org/content/10.1101/2021.07.28.454025v3.full.pdf we have that \n",
    "\n",
    "\n",
    "```\n",
    "We manually identified synapses in 70 small subvolumes (n=8,611 synapses) distributed across\n",
    "the dataset, giving the automated detection an estimated precision of 96% and recall of 89%\n",
    "(Supplemental Fig 1) with a partner assignment accuracy of 98%.\n",
    "```\n",
    "\n",
    "So we generate controls for our metrics were we: \n",
    "\n",
    "* Remove 4% of  the connections; taking into account the precision\n",
    "* Add 12% ~ 1/0.89 of the connections; taking into account the recall\n",
    "* Shuffle 2% of the connections; taking into account the partner accuracy\n",
    "\n",
    "Note that this manipulations overestimate the possible errors, since they are done at the level of connections rather than synapses. "
   ]
  },
  {
   "cell_type": "code",
   "execution_count": 1,
   "id": "b54cbd60-623c-4956-ad3a-a33eac866246",
   "metadata": {},
   "outputs": [],
   "source": [
    "import numpy as np\n",
    "import pandas as pd\n",
    "import scipy.sparse as sp\n",
    "\n",
    "from connalysis import randomization \n",
    "from conntility import ConnectivityMatrix\n",
    "\n",
    "import sys\n",
    "sys.path.append('../../../library')\n",
    "from structural_basic import load_connectome"
   ]
  },
  {
   "cell_type": "code",
   "execution_count": 2,
   "id": "07321269-a578-4537-b8b9-d01a73f3e811",
   "metadata": {},
   "outputs": [],
   "source": [
    "# Load MICrONS connectome (central subvolume) \n",
    "data_dir=\"../../data\"\n",
    "conn=load_connectome(data_dir, 'MICrONS')\n",
    "M=conn.matrix.astype('bool') # remove potential weights of synapses\n",
    "no_edges=M.row.shape[0]"
   ]
  },
  {
   "cell_type": "code",
   "execution_count": 3,
   "id": "899c9fe0-79be-4eb1-ab96-8346735a01c6",
   "metadata": {},
   "outputs": [
    {
     "name": "stdout",
     "output_type": "stream",
     "text": [
      "Is the new matrix a submatrix of the original? : True\n",
      "Using 96.0000153705159% of the edges\n"
     ]
    }
   ],
   "source": [
    "# Removing 4% of the edges at random\n",
    "np.random.seed(10)\n",
    "edges_remove=np.sort(np.random.choice(no_edges, size=int(no_edges*0.04), replace=False))\n",
    "i=np.delete(M.row, edges_remove)\n",
    "j=np.delete(M.col, edges_remove)\n",
    "data=np.delete(M.data, edges_remove)\n",
    "M_precision=sp.coo_matrix((data, (i, j)), shape=M.shape)\n",
    "print(f\"Is the new matrix a submatrix of the original? : {(M.multiply(M_precision)-M_precision).nnz==0}\")\n",
    "print(f\"Using {M_precision.nnz*100/M.nnz}% of the edges\")"
   ]
  },
  {
   "cell_type": "code",
   "execution_count": 4,
   "id": "59c8d7c6-4cb0-41c3-aff6-bd4c8337e1a2",
   "metadata": {},
   "outputs": [
    {
     "name": "stderr",
     "output_type": "stream",
     "text": [
      "/gpfs/bbp.cscs.ch/home/egassant/connalysis/lib/python3.10/site-packages/scipy/sparse/_index.py:143: SparseEfficiencyWarning: Changing the sparsity structure of a csr_matrix is expensive. lil_matrix is more efficient.\n",
      "  self._set_arrayXarray(i, j, x)\n"
     ]
    },
    {
     "name": "stdout",
     "output_type": "stream",
     "text": [
      "Is the original matrix a submatrix of the new? : True\n",
      "The original has 89.28575104557291% as many edges as the control\n"
     ]
    }
   ],
   "source": [
    "# Adding 12% of edges at random \n",
    "M_recall=randomization.add_connections(M, int(no_edges*0.12), seed=0)\n",
    "print(f\"Is the original matrix a submatrix of the new? : {(M.multiply(M_recall)-M).nnz==0}\")\n",
    "print(f\"The original has {M.nnz*100/M_recall.nnz}% as many edges as the control\")"
   ]
  },
  {
   "cell_type": "code",
   "execution_count": 5,
   "id": "756fb725-9772-46e5-9a96-d776af9dfd84",
   "metadata": {},
   "outputs": [
    {
     "name": "stdout",
     "output_type": "stream",
     "text": [
      "The new matrix and the original agree in 98.00029588243092% of the entries\n",
      "They have the same number of edges? True\n"
     ]
    }
   ],
   "source": [
    "# Shuffle 2% of the edges at random \n",
    "no_edges_shuffle=int(no_edges*0.02)\n",
    "# Remove 2% of the edges\n",
    "edges_remove=np.sort(np.random.choice(no_edges, size=no_edges_shuffle, replace=False))\n",
    "i=np.delete(M.row, edges_remove)\n",
    "j=np.delete(M.col, edges_remove)\n",
    "data=np.delete(M.data, edges_remove)\n",
    "M_partner=sp.coo_matrix((data, (i, j)), shape=M.shape)\n",
    "# Add edges back at random \n",
    "M_partner=randomization.add_connections(M_partner, no_edges_shuffle, seed=0)\n",
    "\n",
    "print(f\"The new matrix and the original agree in {(M.multiply(M_partner)).nnz*100/M.nnz}% of the entries\")\n",
    "print(f\"They have the same number of edges? {M_partner.nnz==M.nnz}\")\n"
   ]
  },
  {
   "cell_type": "code",
   "execution_count": 6,
   "id": "4919537c-ace9-45ce-aac0-1bd5d2b39525",
   "metadata": {},
   "outputs": [],
   "source": [
    "# Saving \n",
    "fn=f\"{data_dir}/MICrONS_EM_error\"\n",
    "ConnectivityMatrix(M_precision, vertex_properties=conn.vertices).to_h5(f\"{fn}_precision.h5\")\n",
    "ConnectivityMatrix(M_recall, vertex_properties=conn.vertices).to_h5(f\"{fn}_recall.h5\")\n",
    "ConnectivityMatrix(M_partner, vertex_properties=conn.vertices).to_h5(f\"{fn}_partner.h5\")\n"
   ]
  },
  {
   "cell_type": "code",
   "execution_count": null,
   "id": "32da8227-c09d-4572-ac4e-dda5eed3687e",
   "metadata": {},
   "outputs": [],
   "source": []
  }
 ],
 "metadata": {
  "kernelspec": {
   "display_name": "Python 3 (ipykernel)",
   "language": "python",
   "name": "python3"
  },
  "language_info": {
   "codemirror_mode": {
    "name": "ipython",
    "version": 3
   },
   "file_extension": ".py",
   "mimetype": "text/x-python",
   "name": "python",
   "nbconvert_exporter": "python",
   "pygments_lexer": "ipython3",
   "version": "3.10.8"
  }
 },
 "nbformat": 4,
 "nbformat_minor": 5
}

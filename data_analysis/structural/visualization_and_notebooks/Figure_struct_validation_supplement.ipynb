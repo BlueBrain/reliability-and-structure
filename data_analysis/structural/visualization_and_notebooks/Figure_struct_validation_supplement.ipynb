{
 "cells": [
  {
   "cell_type": "markdown",
   "metadata": {},
   "source": [
    "# Supplement: Structural validation plots of manipulated connectomes\n",
    "- Layer-wise connection probabilities and differences to original\n",
    "- From structural comparison, as part of _Connectome-Manipulator_ framework"
   ]
  },
  {
   "cell_type": "code",
   "execution_count": 1,
   "metadata": {},
   "outputs": [],
   "source": [
    "import matplotlib.pyplot as plt\n",
    "import numpy as np\n",
    "import os\n",
    "import pickle"
   ]
  },
  {
   "cell_type": "code",
   "execution_count": 2,
   "metadata": {},
   "outputs": [],
   "source": [
    "save_path = './figs'\n",
    "if not os.path.exists(save_path):\n",
    "    os.makedirs(save_path)\n",
    "# save_path = None"
   ]
  },
  {
   "cell_type": "code",
   "execution_count": null,
   "metadata": {},
   "outputs": [],
   "source": []
  },
  {
   "cell_type": "code",
   "execution_count": 22,
   "metadata": {},
   "outputs": [],
   "source": [
    "struct_files = {'Baseline': {'file': '/gpfs/bbp.cscs.ch/project/proj9/bisimplices/pokorny/simplified_connectome_models/struct_comparison/O1v5-SONATA/data/Orig_ConnPerLayer_mc2EE.pickle', 'group': 'baseline'},\n",
    "\n",
    "                'Order 1': {'file': '/gpfs/bbp.cscs.ch/project/proj9/bisimplices/pokorny/simplified_connectome_models/struct_comparison/O1v5-SONATA/data/Order-1_ConnPerLayer_mc2EE.pickle', 'group': 'remove_struct'},\n",
    "                'Order 2': {'file': '/gpfs/bbp.cscs.ch/project/proj9/bisimplices/pokorny/simplified_connectome_models/struct_comparison/O1v5-SONATA/data/Order-2_ConnPerLayer_mc2EE.pickle', 'group': 'remove_struct'},\n",
    "                'Order 3': {'file': '/gpfs/bbp.cscs.ch/project/proj9/bisimplices/pokorny/simplified_connectome_models/struct_comparison/O1v5-SONATA/data/Order-3_ConnPerLayer_mc2EE.pickle', 'group': 'remove_struct'},\n",
    "                'Order 4': {'file': '/gpfs/bbp.cscs.ch/project/proj9/bisimplices/pokorny/simplified_connectome_models/struct_comparison/O1v5-SONATA/data/Order-4_ConnPerLayer_mc2EE.pickle', 'group': 'remove_struct'},\n",
    "                'Order 5': {'file': '/gpfs/bbp.cscs.ch/project/proj9/bisimplices/pokorny/simplified_connectome_models/struct_comparison/O1v5-SONATA/data/Order-5_ConnPerLayer_mc2EE.pickle', 'group': 'remove_struct'},\n",
    "\n",
    "                '100k': {'file': '/gpfs/bbp.cscs.ch/project/proj9/bisimplices/pokorny/enhanced_connectivity/struct_comparison/O1v5-SONATA/data/Enhanced100K_ConnPerLayer_mc2EE.pickle', 'group': 'add_struct'},\n",
    "                '200k': {'file': '/gpfs/bbp.cscs.ch/project/proj9/bisimplices/pokorny/enhanced_connectivity/struct_comparison/O1v5-SONATA/data/Enhanced200K_ConnPerLayer_mc2EE.pickle', 'group': 'add_struct'},\n",
    "                '300k': {'file': '/gpfs/bbp.cscs.ch/project/proj9/bisimplices/pokorny/enhanced_connectivity/struct_comparison/O1v5-SONATA/data/Enhanced300K_ConnPerLayer_mc2EE.pickle', 'group': 'add_struct'},\n",
    "                '400k': {'file': '/gpfs/bbp.cscs.ch/project/proj9/bisimplices/pokorny/enhanced_connectivity/struct_comparison/O1v5-SONATA/data/Enhanced400K_ConnPerLayer_mc2EE.pickle', 'group': 'add_struct'},\n",
    "                '500k': {'file': '/gpfs/bbp.cscs.ch/project/proj9/bisimplices/pokorny/enhanced_connectivity/struct_comparison/O1v5-SONATA/data/Enhanced500K_ConnPerLayer_mc2EE.pickle', 'group': 'add_struct'},\n",
    "                '670k': {'file': '/gpfs/bbp.cscs.ch/project/proj9/bisimplices/pokorny/enhanced_connectivity/struct_comparison/O1v5-SONATA/data/Enhanced670K_ConnPerLayer_mc2EE.pickle', 'group': 'add_struct'},\n",
    "\n",
    "                'RC - 1':  {'file': '/gpfs/bbp.cscs.ch/project/proj9/bisimplices/pokorny/reciprocal_removal/struct_comparison/O1v5-SONATA/data/StructDim56-0_ConnPerLayer_mc2EE.pickle', 'group': 'remove_RC'},\n",
    "                'RC - 2':  {'file': '/gpfs/bbp.cscs.ch/project/proj9/bisimplices/pokorny/reciprocal_removal/struct_comparison/O1v5-SONATA/data/StructDim56_456-0_ConnPerLayer_mc2EE.pickle', 'group': 'remove_RC'},\n",
    "                'RC - 3':  {'file': '/gpfs/bbp.cscs.ch/project/proj9/bisimplices/pokorny/reciprocal_removal/struct_comparison/O1v5-SONATA/data/StructDim456-0_ConnPerLayer_mc2EE.pickle', 'group': 'remove_RC'},\n",
    "                'RC - 4':  {'file': '/gpfs/bbp.cscs.ch/project/proj9/bisimplices/pokorny/reciprocal_removal/struct_comparison/O1v5-SONATA/data/Unstruct-3_ConnPerLayer_mc2EE.pickle', 'group': 'remove_RC'},\n",
    "                'RC* - 1': {'file': '/gpfs/bbp.cscs.ch/project/proj9/bisimplices/pokorny/reciprocal_removal/struct_comparison/O1v5-SONATA/data/Unstruct-0_ConnPerLayer_mc2EE.pickle', 'group': 'remove_RC'},\n",
    "                'RC* - 2': {'file': '/gpfs/bbp.cscs.ch/project/proj9/bisimplices/pokorny/reciprocal_removal/struct_comparison/O1v5-SONATA/data/Unstruct-1_ConnPerLayer_mc2EE.pickle', 'group': 'remove_RC'},\n",
    "                'RC* - 3': {'file': '/gpfs/bbp.cscs.ch/project/proj9/bisimplices/pokorny/reciprocal_removal/struct_comparison/O1v5-SONATA/data/Unstruct-2_ConnPerLayer_mc2EE.pickle', 'group': 'remove_RC'},\n",
    "\n",
    "                'RC + 1':  {'file': '/gpfs/bbp.cscs.ch/project/proj9/bisimplices/pokorny/reciprocal_addition/struct_comparison/O1v5-SONATA/data/struct0_2x_ConnPerLayer_mc2EE.pickle', 'group': 'add_RC'},\n",
    "                'RC + 2':  {'file': '/gpfs/bbp.cscs.ch/project/proj9/bisimplices/pokorny/reciprocal_addition/struct_comparison/O1v5-SONATA/data/struct0_4x_ConnPerLayer_mc2EE.pickle', 'group': 'add_RC'},\n",
    "                'RC* + 1': {'file': '/gpfs/bbp.cscs.ch/project/proj9/bisimplices/pokorny/reciprocal_addition/struct_comparison/O1v5-SONATA/data/control0_2x_ConnPerLayer_mc2EE.pickle', 'group': 'add_RC'},\n",
    "                'RC* + 2': {'file': '/gpfs/bbp.cscs.ch/project/proj9/bisimplices/pokorny/reciprocal_addition/struct_comparison/O1v5-SONATA/data/control0_4x_ConnPerLayer_mc2EE.pickle', 'group': 'add_RC'}}\n",
    "\n",
    "group_titles = {'baseline':      'Baseline',\n",
    "                'remove_struct': 'Removing structure',\n",
    "                'add_struct':    'Enhancing structure',\n",
    "                'remove_RC':     'Removing RCs',\n",
    "                'add_RC':        'Adding RCs'}\n",
    "\n",
    "cmaps = {'baseline':      'Greys',\n",
    "         'remove_struct': 'Blues',\n",
    "         'add_struct':    'Reds',\n",
    "         'remove_RC':     'Greens',\n",
    "         'add_RC':        'RdPu'}\n",
    "\n",
    "diff_cmap = 'PiYG'\n",
    "\n",
    "p_ranges = {'baseline':      3,\n",
    "            'remove_struct': 3,\n",
    "            'add_struct':    3,\n",
    "            'remove_RC':     3,\n",
    "            'add_RC':        3}  # 0-x (%)\n",
    "\n",
    "diff_ranges = {'baseline':      0.01,\n",
    "               'remove_struct': 2,\n",
    "               'add_struct':    0.2,\n",
    "               'remove_RC':     0.05,\n",
    "               'add_RC':        0.3}  # +/- (%)"
   ]
  },
  {
   "cell_type": "code",
   "execution_count": null,
   "metadata": {},
   "outputs": [],
   "source": []
  },
  {
   "cell_type": "code",
   "execution_count": 5,
   "metadata": {},
   "outputs": [],
   "source": [
    "def get_group_keys(grp_dict, grp_name):\n",
    "    return [k for k, v in grp_dict.items() if v['group'] == grp_name]\n",
    "\n",
    "\n",
    "def plot_struct_res(struct_file, res_sel, plot_range=[None, None], cmap='hot_r', colorbar=True, ticklabels=True, ax_off=False):\n",
    "    \"\"\"Plot structural results.\"\"\"\n",
    "\n",
    "    if isinstance(struct_file, list):\n",
    "        assert len(struct_file) == 2, 'ERROR: Two results files required to compute diff!'\n",
    "        diff_dicts = []\n",
    "        for sfile in struct_file:\n",
    "            with open(sfile, 'rb') as f:\n",
    "                diff_dicts.append(pickle.load(f))\n",
    "        struct_dict = results_diff(*diff_dicts)\n",
    "    else:\n",
    "        with open(struct_file, 'rb') as f:\n",
    "            struct_dict = pickle.load(f)\n",
    "    res_dict = struct_dict[res_sel]\n",
    "    common_dict = struct_dict['common']\n",
    "\n",
    "    if plot_range is None:\n",
    "        plot_range = np.nanmax(np.abs(res_dict['data']))\n",
    "    if np.isscalar(plot_range):  # +/- symmetric\n",
    "        vmin = -np.abs(plot_range)\n",
    "        vmax = np.abs(plot_range)\n",
    "    else:\n",
    "        vmin = np.nanmin(res_dict['data']) if plot_range[0] is None else plot_range[0]\n",
    "        vmax = np.nanmax(res_dict['data']) if plot_range[-1] is None else plot_range[-1]\n",
    "\n",
    "#     print(f'{res_dict[\"unit\"]} data range: [{np.nanmin(res_dict[\"data\"]):.3f}, {np.nanmax(res_dict[\"data\"]):.3f}]')\n",
    "#     print(f'{res_dict[\"unit\"]} plot range: [{vmin:.3f}, {vmax:.3f}]')\n",
    "\n",
    "    h_img = plt.imshow(res_dict['data'], interpolation='nearest', cmap=cmap, vmin=vmin, vmax=vmax)\n",
    "    plt.xticks(range(len(common_dict['tgt_group_values'])), common_dict['tgt_group_values'] if ticklabels else [])\n",
    "    plt.yticks(range(len(common_dict['src_group_values'])), common_dict['src_group_values'] if ticklabels else [])\n",
    "\n",
    "    plt.gca().spines['top'].set_visible(False)\n",
    "    plt.gca().spines['right'].set_visible(False)\n",
    "    if ax_off:\n",
    "        plt.axis('off')\n",
    "\n",
    "    if colorbar:\n",
    "        h_cb = plt.colorbar()\n",
    "        h_cb.set_label(label=res_dict['unit'], size=None)\n",
    "        h_cb.ax.tick_params(labelsize=None)\n",
    "\n",
    "    return h_img\n",
    "\n",
    "\n",
    "### MODIFIED from Connectome-Manipulator ###\n",
    "def results_diff(res_dict1, res_dict2):\n",
    "    \"\"\"Computes difference between two results data sets [recursively iterates through all sub-dicts to find 'data' entries; all other entries must be equal or will be removed].\"\"\"\n",
    "    res_keys = np.intersect1d(list(res_dict1.keys()), list(res_dict2.keys()))\n",
    "    for _k in np.setdiff1d(list(res_dict1.keys()), res_keys):\n",
    "        del res_dict1[_k]\n",
    "    for _k in np.setdiff1d(list(res_dict2.keys()), res_keys):\n",
    "        del res_dict2[_k]\n",
    "    assert np.all(\n",
    "        [isinstance(res_dict1[k], type(res_dict2[k])) for k in res_keys]\n",
    "    ), \"ERROR: Results type mismatch!\"\n",
    "\n",
    "    diff_dict = {}\n",
    "    for k in res_keys:\n",
    "        if isinstance(res_dict1[k], dict):\n",
    "            diff_dict[k] = results_diff(res_dict1[k], res_dict2[k])  # Recursive update\n",
    "        else:\n",
    "            if k == \"data\":\n",
    "                assert (\n",
    "                    res_dict1[k].shape == res_dict2[k].shape\n",
    "                ), \"ERROR: Results data shape mismatch!\"\n",
    "                # assert np.all(res_dict1[k] >= 0) and np.all(res_dict2[k] >= 0), 'ERROR: Negative results value(s) found!'\n",
    "                diff_dict[k] = res_dict2[k].astype(float) - res_dict1[k].astype(\n",
    "                    float\n",
    "                )  # Difference matrix\n",
    "            else:\n",
    "                assert np.array_equal(res_dict1[k], res_dict2[k]), \"ERROR: Results inconsistency!\"\n",
    "                diff_dict[k] = res_dict1[k]\n",
    "\n",
    "    return diff_dict\n",
    "\n",
    "\n",
    "def add_cbar(h, label=None, ticks=None):\n",
    "    cax = plt.gca().inset_axes([0.1, -0.75, 0.8, 0.5])\n",
    "    cax.axis('off')\n",
    "    h_cb = plt.colorbar(h, orientation='horizontal', aspect=10, ax=cax, label=label)\n",
    "    h_cb.set_ticks(ticks)\n",
    "    h_cb.set_ticklabels(ticks)\n",
    "    h_cb.outline.set_linewidth(0)\n"
   ]
  },
  {
   "cell_type": "code",
   "execution_count": null,
   "metadata": {},
   "outputs": [],
   "source": []
  },
  {
   "cell_type": "code",
   "execution_count": 23,
   "metadata": {},
   "outputs": [
    {
     "name": "stderr",
     "output_type": "stream",
     "text": [
      "/nvme/pokorny/2063384/ipykernel_184384/2281501433.py:29: UserWarning: This figure includes Axes that are not compatible with tight_layout, so results might be incorrect.\n",
      "  plt.tight_layout()\n"
     ]
    },
    {
     "data": {
      "image/png": "[encoded data removed]",
      "text/plain": [
       "<Figure size 144x504 with 16 Axes>"
      ]
     },
     "metadata": {
      "needs_background": "light"
     },
     "output_type": "display_data"
    },
    {
     "name": "stderr",
     "output_type": "stream",
     "text": [
      "/nvme/pokorny/2063384/ipykernel_184384/2281501433.py:29: UserWarning: This figure includes Axes that are not compatible with tight_layout, so results might be incorrect.\n",
      "  plt.tight_layout()\n"
     ]
    },
    {
     "data": {
      "image/png": "[encoded data removed]",
      "text/plain": [
       "<Figure size 144x504 with 16 Axes>"
      ]
     },
     "metadata": {
      "needs_background": "light"
     },
     "output_type": "display_data"
    },
    {
     "name": "stderr",
     "output_type": "stream",
     "text": [
      "/nvme/pokorny/2063384/ipykernel_184384/2281501433.py:29: UserWarning: This figure includes Axes that are not compatible with tight_layout, so results might be incorrect.\n",
      "  plt.tight_layout()\n"
     ]
    },
    {
     "data": {
      "image/png": "[encoded data removed]",
      "text/plain": [
       "<Figure size 144x504 with 16 Axes>"
      ]
     },
     "metadata": {
      "needs_background": "light"
     },
     "output_type": "display_data"
    },
    {
     "name": "stderr",
     "output_type": "stream",
     "text": [
      "/nvme/pokorny/2063384/ipykernel_184384/2281501433.py:29: UserWarning: This figure includes Axes that are not compatible with tight_layout, so results might be incorrect.\n",
      "  plt.tight_layout()\n"
     ]
    },
    {
     "data": {
      "image/png": "[encoded data removed]",
      "text/plain": [
       "<Figure size 144x504 with 16 Axes>"
      ]
     },
     "metadata": {
      "needs_background": "light"
     },
     "output_type": "display_data"
    },
    {
     "name": "stderr",
     "output_type": "stream",
     "text": [
      "/nvme/pokorny/2063384/ipykernel_184384/2281501433.py:29: UserWarning: This figure includes Axes that are not compatible with tight_layout, so results might be incorrect.\n",
      "  plt.tight_layout()\n"
     ]
    },
    {
     "data": {
      "image/png": "[encoded data removed]",
      "text/plain": [
       "<Figure size 144x504 with 16 Axes>"
      ]
     },
     "metadata": {
      "needs_background": "light"
     },
     "output_type": "display_data"
    }
   ],
   "source": [
    "grid_max = 7\n",
    "\n",
    "for group in ['baseline', 'remove_struct', 'remove_RC', 'add_RC', 'add_struct']:\n",
    "    res_list = get_group_keys(struct_files, group)\n",
    "    p_range = p_ranges[group]\n",
    "    diff_range = diff_ranges[group]\n",
    "\n",
    "    plt.figure(figsize=[2, 7])\n",
    "    for idx in range(grid_max):\n",
    "        plt.subplot(grid_max, 2, idx * 2 + 1)\n",
    "        if idx < len(res_list):\n",
    "            res_name = res_list[idx]\n",
    "            h_res = plot_struct_res(struct_files[res_name]['file'], 'conn_prob', plot_range=[0, p_range], colorbar=False, cmap=cmaps[struct_files[res_name]['group']], ticklabels=False, ax_off=True)\n",
    "            plt.text(np.min(plt.xlim()), np.mean(plt.ylim()), res_name, ha='right', va='center', rotation=90)\n",
    "        else:\n",
    "            plt.axis('off')\n",
    "        if idx == grid_max - 1:\n",
    "            add_cbar(h_res, label='Prob. (%)', ticks=range(np.floor(p_range).astype(int) + 1))\n",
    "\n",
    "        plt.subplot(grid_max, 2, idx * 2 + 2)\n",
    "        if idx < len(res_list):\n",
    "            h_diff = plot_struct_res([struct_files['Baseline']['file'], struct_files[res_name]['file']], 'conn_prob', plot_range=diff_range, colorbar=False, cmap=diff_cmap, ticklabels=False, ax_off=True)\n",
    "        else:\n",
    "            plt.axis('off')\n",
    "        if idx == grid_max - 1:\n",
    "            add_cbar(h_diff, label='Diff. (%)', ticks=[-diff_range, 0, diff_range])\n",
    "    plt.suptitle(group_titles[group], y=0.96)\n",
    "\n",
    "    plt.tight_layout()\n",
    "    if save_path is not None:\n",
    "        plt.savefig(os.path.join(save_path, f'struct_validation__{group}.png'), dpi=600, bbox_inches='tight')\n",
    "        plt.savefig(os.path.join(save_path, f'struct_validation__{group}.svg'), dpi=600, bbox_inches='tight')\n",
    "        plt.savefig(os.path.join(save_path, f'struct_validation__{group}.pdf'), dpi=600, bbox_inches='tight')\n",
    "    plt.show()"
   ]
  },
  {
   "cell_type": "code",
   "execution_count": null,
   "metadata": {},
   "outputs": [],
   "source": []
  }
 ],
 "metadata": {
  "kernelspec": {
   "display_name": "BbpWorkflowKernel",
   "language": "python",
   "name": "bbpworkflowkernel"
  },
  "language_info": {
   "codemirror_mode": {
    "name": "ipython",
    "version": 3
   },
   "file_extension": ".py",
   "mimetype": "text/x-python",
   "name": "python",
   "nbconvert_exporter": "python",
   "pygments_lexer": "ipython3",
   "version": "3.9.7"
  }
 },
 "nbformat": 4,
 "nbformat_minor": 4
}

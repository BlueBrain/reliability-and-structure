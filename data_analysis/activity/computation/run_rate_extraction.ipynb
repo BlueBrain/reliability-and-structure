{
 "cells": [
  {
   "cell_type": "markdown",
   "metadata": {},
   "source": [
    "# Batch processing pipeline for rate extraction only\n",
    "1. Extract & cut spike trains\n",
    "2. Compute firing rates\n",
    "\n",
    "<u>Notes</u>:\n",
    "- Batch processing of list of campaign paths\n",
    "- By default, only excitatory spike trains and firing rates will be extracted\n",
    "- BUT: Neuron info table and adjacency matrix will always contain all neurons"
   ]
  },
  {
   "cell_type": "code",
   "execution_count": null,
   "metadata": {},
   "outputs": [],
   "source": [
    "import sys\n",
    "sys.path.append('../../../library')\n",
    "\n",
    "import os\n",
    "from extract import run_extraction  # Requires bluepy kernel (BbpWorkflowKernel)\n",
    "from preprocess import create_empty_data_store\n",
    "from preprocess import run_rate_extraction, merge_rates_to_h5_data_store"
   ]
  },
  {
   "cell_type": "code",
   "execution_count": null,
   "metadata": {},
   "outputs": [],
   "source": [
    "# syn_class = 'EXC'\n",
    "# syn_class = 'INH'\n",
    "syn_class = 'ALL'\n",
    "\n",
    "working_dir_name = 'working_dir'  # Default name\n",
    "if syn_class != 'EXC':\n",
    "    working_dir_name = f'{working_dir_name}_{syn_class.lower()}'\n",
    "print(f'Working dir: \"{working_dir_name}\" ({syn_class} spike trains)')"
   ]
  },
  {
   "cell_type": "code",
   "execution_count": null,
   "metadata": {},
   "outputs": [],
   "source": [
    "# path_list = ['/gpfs/bbp.cscs.ch/data/scratch/proj9/bisimplices/simulations/BlobStimReliability_O1v5-SONATA_Baseline',\n",
    "#              '/gpfs/bbp.cscs.ch/data/scratch/proj9/bisimplices/simulations/BlobStimReliability_O1v5-SONATA_ConnRewired_mc2EE_Order1',\n",
    "#              '/gpfs/bbp.cscs.ch/data/scratch/proj9/bisimplices/simulations/BlobStimReliability_O1v5-SONATA_ConnRewired_mc2EE_Order2',\n",
    "#              '/gpfs/bbp.cscs.ch/data/scratch/proj9/bisimplices/simulations/BlobStimReliability_O1v5-SONATA_ConnRewired_mc2EE_Order3',\n",
    "#              '/gpfs/bbp.cscs.ch/data/scratch/proj9/bisimplices/simulations/BlobStimReliability_O1v5-SONATA_ConnRewired_mc2EE_Order4',\n",
    "#              '/gpfs/bbp.cscs.ch/data/scratch/proj9/bisimplices/simulations/BlobStimReliability_O1v5-SONATA_ConnRewired_mc2EE_Order5']\n",
    "\n",
    "# path_list = ['/gpfs/bbp.cscs.ch/data/scratch/proj9/bisimplices/simulations/BlobStimReliability_O1v5-SONATA_RecipRemoval_Unstruct-0',\n",
    "#              '/gpfs/bbp.cscs.ch/data/scratch/proj9/bisimplices/simulations/BlobStimReliability_O1v5-SONATA_RecipRemoval_Unstruct-1',\n",
    "#              '/gpfs/bbp.cscs.ch/data/scratch/proj9/bisimplices/simulations/BlobStimReliability_O1v5-SONATA_RecipRemoval_Unstruct-2',\n",
    "#              '/gpfs/bbp.cscs.ch/data/scratch/proj9/bisimplices/simulations/BlobStimReliability_O1v5-SONATA_RecipRemoval_Unstruct-3',\n",
    "#              '/gpfs/bbp.cscs.ch/data/scratch/proj9/bisimplices/simulations/BlobStimReliability_O1v5-SONATA_RecipRemoval_StructDim56',\n",
    "#              '/gpfs/bbp.cscs.ch/data/scratch/proj9/bisimplices/simulations/BlobStimReliability_O1v5-SONATA_RecipRemoval_StructDim56_456',\n",
    "#              '/gpfs/bbp.cscs.ch/data/scratch/proj9/bisimplices/simulations/BlobStimReliability_O1v5-SONATA_RecipRemoval_StructDim456']\n",
    "\n",
    "# path_list = ['/gpfs/bbp.cscs.ch/data/scratch/proj9/bisimplices/simulations/BlobStimReliability_O1v5-SONATA_ConnAdd_RecipStruct0x2',\n",
    "#              '/gpfs/bbp.cscs.ch/data/scratch/proj9/bisimplices/simulations/BlobStimReliability_O1v5-SONATA_ConnAdd_RecipStruct0x4',\n",
    "#              '/gpfs/bbp.cscs.ch/data/scratch/proj9/bisimplices/simulations/BlobStimReliability_O1v5-SONATA_ConnAdd_Control0x2',\n",
    "#              '/gpfs/bbp.cscs.ch/data/scratch/proj9/bisimplices/simulations/BlobStimReliability_O1v5-SONATA_ConnAdd_Control0x4']\n",
    "\n",
    "path_list = ['/gpfs/bbp.cscs.ch/data/scratch/proj9/bisimplices/simulations/BlobStimReliability_O1v5-SONATA_ConnRewireEnhanced100K',\n",
    "             '/gpfs/bbp.cscs.ch/data/scratch/proj9/bisimplices/simulations/BlobStimReliability_O1v5-SONATA_ConnRewireEnhanced200K',\n",
    "             '/gpfs/bbp.cscs.ch/data/scratch/proj9/bisimplices/simulations/BlobStimReliability_O1v5-SONATA_ConnRewireEnhanced300K',\n",
    "             '/gpfs/bbp.cscs.ch/data/scratch/proj9/bisimplices/simulations/BlobStimReliability_O1v5-SONATA_ConnRewireEnhanced400K',\n",
    "             '/gpfs/bbp.cscs.ch/data/scratch/proj9/bisimplices/simulations/BlobStimReliability_O1v5-SONATA_ConnRewireEnhanced500K',\n",
    "             '/gpfs/bbp.cscs.ch/data/scratch/proj9/bisimplices/simulations/BlobStimReliability_O1v5-SONATA_ConnRewireEnhanced670K']\n"
   ]
  },
  {
   "cell_type": "code",
   "execution_count": null,
   "metadata": {},
   "outputs": [],
   "source": [
    "for idx, campaign_path in enumerate(path_list):\n",
    "    print(f'PROCESSING {idx + 1}/{len(path_list)}: ../{os.path.split(campaign_path)[-1]}')\n",
    "\n",
    "    # Extract & cut spike trains\n",
    "    sim_paths, working_dir = run_extraction(campaign_path, working_dir_name=working_dir_name, syn_class=syn_class)\n",
    "    num_sims = len(sim_paths)\n",
    "\n",
    "    # Create empty data store without filtered spike signals\n",
    "    create_empty_data_store(working_dir, data_store_name='processed_data_store')\n",
    "\n",
    "    # Run rate extraction\n",
    "    spike_file_names = [f'raw_spikes_{syn_class.lower()}_{idx}.npy' for idx in range(num_sims)]\n",
    "\n",
    "    run_rate_extraction(working_dir, spike_file_names, syn_class=syn_class, pool_size=30)\n",
    "\n",
    "    # Merge individual rate files into .h5 data store\n",
    "    tmp_file_names = [f'firing_rates_{syn_class.lower()}_{idx}__tmp__.npz' for idx in range(num_sims)]\n",
    "\n",
    "    h5_file = merge_rates_to_h5_data_store(working_dir, tmp_file_names, data_store_name='processed_data_store', do_overwrite=False)"
   ]
  },
  {
   "cell_type": "code",
   "execution_count": null,
   "metadata": {},
   "outputs": [],
   "source": []
  },
  {
   "cell_type": "code",
   "execution_count": null,
   "metadata": {},
   "outputs": [],
   "source": []
  },
  {
   "cell_type": "code",
   "execution_count": null,
   "metadata": {},
   "outputs": [],
   "source": []
  },
  {
   "cell_type": "markdown",
   "metadata": {},
   "source": [
    "__HOW TO LOAD PROCESSED SPIKE SIGNALS, META-INFO, AND RATES FROM .H5 DATA STORE:__\n",
    "~~~\n",
    "h5_store = h5py.File(h5_file, 'r')\n",
    "print(f'Groups/Datasets: {list(h5_store.keys())}')\n",
    "\n",
    "gids = np.array(h5_store['gids'])\n",
    "firing_rates = np.array(h5_store['firing_rates'])\n",
    "\n",
    "h5_store.close()\n",
    "~~~"
   ]
  },
  {
   "cell_type": "code",
   "execution_count": null,
   "metadata": {},
   "outputs": [],
   "source": []
  },
  {
   "cell_type": "code",
   "execution_count": null,
   "metadata": {},
   "outputs": [],
   "source": []
  },
  {
   "cell_type": "code",
   "execution_count": null,
   "metadata": {},
   "outputs": [],
   "source": []
  }
 ],
 "metadata": {
  "kernelspec": {
   "display_name": "BbpWorkflowKernel",
   "language": "python",
   "name": "bbpworkflowkernel"
  },
  "language_info": {
   "codemirror_mode": {
    "name": "ipython",
    "version": 3
   },
   "file_extension": ".py",
   "mimetype": "text/x-python",
   "name": "python",
   "nbconvert_exporter": "python",
   "pygments_lexer": "ipython3",
   "version": "3.9.7"
  }
 },
 "nbformat": 4,
 "nbformat_minor": 4
}

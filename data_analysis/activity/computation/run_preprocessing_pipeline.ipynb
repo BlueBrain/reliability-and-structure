{
 "cells": [
  {
   "cell_type": "markdown",
   "metadata": {},
   "source": [
    "# Preprocessing pipeline for reliability bootstrapping\n",
    "1. Extract & cut spike trains\n",
    "2. Compute filtered spike signals\n",
    "3. Compute firing rates"
   ]
  },
  {
   "cell_type": "code",
   "execution_count": 1,
   "metadata": {},
   "outputs": [],
   "source": [
    "import sys\n",
    "sys.path.append('../../library')"
   ]
  },
  {
   "cell_type": "code",
   "execution_count": null,
   "metadata": {},
   "outputs": [],
   "source": []
  },
  {
   "cell_type": "markdown",
   "metadata": {},
   "source": [
    "### 1. Extract & cut spike trains\n",
    "\n",
    "Extracts (excitatory) spike trains in format compatible with \"toposample\" pipeline"
   ]
  },
  {
   "cell_type": "code",
   "execution_count": 2,
   "metadata": {},
   "outputs": [],
   "source": [
    "# from extract import run_extraction  # Requires bluepy kernel (BbpWorkflowKernel)\n",
    "from extract_SONATA import run_extraction  # Requires bluepysnap kernel (RewiringKernel)"
   ]
  },
  {
   "cell_type": "code",
   "execution_count": 4,
   "metadata": {},
   "outputs": [
    {
     "name": "stdout",
     "output_type": "stream",
     "text": [
      "INFO: 10 spike files written to \"/gpfs/bbp.cscs.ch/data/scratch/proj83/home/pokorny/SimplifiedConnectomeModels/bbp_workflow_v2/38bef0c5-48cd-479e-8a74-0d46166f00c2/working_dir\"\n"
     ]
    }
   ],
   "source": [
    "# SONATA config campaigns\n",
    "nodes_popul_name = 'S1nonbarrel_neurons'\n",
    "# campaign_path = '/gpfs/bbp.cscs.ch/data/scratch/proj83/home/pokorny/SimplifiedConnectomeModels/simulations_v2/SSCx-HexO1-Release-TC__Reliab'  # Baseline\n",
    "# campaign_path = '/gpfs/bbp.cscs.ch/data/scratch/proj83/home/pokorny/SimplifiedConnectomeModels/simulations_v2/SSCx-HexO1-Release-TC__Reliab__ConnRewireOrder1Hex0EE'\n",
    "# campaign_path = '/gpfs/bbp.cscs.ch/data/scratch/proj83/home/pokorny/SimplifiedConnectomeModels/simulations_v2/SSCx-HexO1-Release-TC__Reliab__ConnRewireOrder2Hex0EE'\n",
    "# campaign_path = '/gpfs/bbp.cscs.ch/data/scratch/proj83/home/pokorny/SimplifiedConnectomeModels/simulations_v2/SSCx-HexO1-Release-TC__Reliab__ConnRewireOrder3Hex0EE'\n",
    "campaign_path = '/gpfs/bbp.cscs.ch/data/scratch/proj83/home/pokorny/SimplifiedConnectomeModels/simulations_v2/SSCx-HexO1-Release-TC__Reliab__ConnRewireOrder4Hex0EE'\n",
    "# campaign_path = '/gpfs/bbp.cscs.ch/data/scratch/proj83/home/pokorny/SimplifiedConnectomeModels/simulations_v2/SSCx-HexO1-Release-TC__Reliab__ConnRewireOrder5Hex0EE'\n",
    "\n",
    "sim_paths, working_dir = run_extraction(campaign_path, nodes_popul_name=nodes_popul_name, working_dir_name='working_dir')\n",
    "num_sims = len(sim_paths)"
   ]
  },
  {
   "cell_type": "code",
   "execution_count": null,
   "metadata": {},
   "outputs": [],
   "source": [
    "# BlueConfig campaigns\n",
    "\n",
    "# campaign_path = '/gpfs/bbp.cscs.ch/data/scratch/proj9/bisimplices/simulations/BlobStimReliability_O1v5-SONATA_ConnAdd_RecipStruct0x2'\n",
    "# campaign_path = '/gpfs/bbp.cscs.ch/data/scratch/proj9/bisimplices/simulations/BlobStimReliability_O1v5-SONATA_ConnAdd_RecipStruct0x4'\n",
    "# campaign_path = '/gpfs/bbp.cscs.ch/data/scratch/proj9/bisimplices/simulations/BlobStimReliability_O1v5-SONATA_ConnAdd_Control0x2'\n",
    "# campaign_path = '/gpfs/bbp.cscs.ch/data/scratch/proj9/bisimplices/simulations/BlobStimReliability_O1v5-SONATA_ConnAdd_Control0x4'\n",
    "\n",
    "# campaign_path = '/gpfs/bbp.cscs.ch/data/scratch/proj9/bisimplices/simulations/BlobStimReliability_O1v5-SONATA_Baseline/'\n",
    "# campaign_path = '/gpfs/bbp.cscs.ch/data/scratch/proj9/bisimplices/simulations/BlobStimReliability_O1v5-SONATA_ConnRewired_mc2EE_Order1'\n",
    "# campaign_path = '/gpfs/bbp.cscs.ch/data/scratch/proj9/bisimplices/simulations/BlobStimReliability_O1v5-SONATA_ConnRewired_mc2EE_Order2'\n",
    "# campaign_path = '/gpfs/bbp.cscs.ch/data/scratch/proj9/bisimplices/simulations/BlobStimReliability_O1v5-SONATA_ConnRewired_mc2EE_Order3'\n",
    "# campaign_path = '/gpfs/bbp.cscs.ch/data/scratch/proj9/bisimplices/simulations/BlobStimReliability_O1v5-SONATA_ConnRewired_mc2EE_Order4'\n",
    "# campaign_path = '/gpfs/bbp.cscs.ch/data/scratch/proj9/bisimplices/simulations/BlobStimReliability_O1v5-SONATA_ConnRewired_mc2EE_Order5'\n",
    "\n",
    "# campaign_path = '/gpfs/bbp.cscs.ch/data/scratch/proj9/bisimplices/simulations/BlobStimReliability_O1v5-SONATA_Baseline_2023-07__WRONG_SIMULATOR_VERSION__/'\n",
    "\n",
    "# campaign_path = '/gpfs/bbp.cscs.ch/data/scratch/proj9/bisimplices/simulations/BlobStimReliability_O1v5-SONATA'\n",
    "# campaign_path = '/gpfs/bbp.cscs.ch/data/scratch/proj9/bisimplices/simulations/BlobStimReliability_O1v5-SONATA_2'\n",
    "# campaign_path = '/gpfs/bbp.cscs.ch/data/scratch/proj9/bisimplices/simulations/BlobStimReliability_O1v5-SONATA_3'\n",
    "\n",
    "# campaign_path = '/gpfs/bbp.cscs.ch/data/scratch/proj9/bisimplices/simulations/BlobStimReliability_O1v5-SONATA_RecipRemoval_Unstruct-3/'\n",
    "# campaign_path = '/gpfs/bbp.cscs.ch/data/scratch/proj9/bisimplices/simulations/BlobStimReliability_O1v5-SONATA_RecipRemoval_Unstruct-2/'\n",
    "# campaign_path = '/gpfs/bbp.cscs.ch/data/scratch/proj9/bisimplices/simulations/BlobStimReliability_O1v5-SONATA_RecipRemoval_Unstruct-1/'\n",
    "# campaign_path = '/gpfs/bbp.cscs.ch/data/scratch/proj9/bisimplices/simulations/BlobStimReliability_O1v5-SONATA_RecipRemoval_Unstruct-0/'\n",
    "# campaign_path = '/gpfs/bbp.cscs.ch/data/scratch/proj9/bisimplices/simulations/BlobStimReliability_O1v5-SONATA_RecipRemoval_StructDim456'\n",
    "# campaign_path = '/gpfs/bbp.cscs.ch/data/scratch/proj9/bisimplices/simulations/BlobStimReliability_O1v5-SONATA_RecipRemoval_StructDim56_456'\n",
    "# campaign_path = '/gpfs/bbp.cscs.ch/data/scratch/proj9/bisimplices/simulations/BlobStimReliability_O1v5-SONATA_RecipRemoval_StructDim56'\n",
    "\n",
    "# campaign_path = '/gpfs/bbp.cscs.ch/data/scratch/proj9/bisimplices/simulations/BlobStimReliability_O1v5-SONATA_OutConnsRemoved_BlockDesign_Struct'\n",
    "# campaign_path = '/gpfs/bbp.cscs.ch/data/scratch/proj9/bisimplices/simulations/BlobStimReliability_O1v5-SONATA_OutConnsRemoved_BlockDesign_Rnd'\n",
    "# campaign_path = '/gpfs/bbp.cscs.ch/data/scratch/proj9/bisimplices/simulations/BlobStimReliability_O1v5-SONATA_RecipConnsRemoved_BlockDesign_Struct'\n",
    "# campaign_path = '/gpfs/bbp.cscs.ch/data/scratch/proj9/bisimplices/simulations/BlobStimReliability_O1v5-SONATA_RecipConnsRemoved_BlockDesign_Rnd'\n",
    "\n",
    "# sim_paths, working_dir = run_extraction(campaign_path, working_dir_name='working_dir')\n",
    "# num_sims = len(sim_paths)"
   ]
  },
  {
   "cell_type": "code",
   "execution_count": null,
   "metadata": {},
   "outputs": [],
   "source": []
  },
  {
   "cell_type": "markdown",
   "metadata": {},
   "source": [
    "### 2. Compute filtered spike signals\n",
    "\n",
    "Runs preprocessing (filtering, w/o mean-centering) of (excitatory) spike trains [PARALLEL IMPLEMENTATION]"
   ]
  },
  {
   "cell_type": "code",
   "execution_count": 7,
   "metadata": {},
   "outputs": [],
   "source": [
    "from preprocess import run_preprocessing, merge_into_h5_data_store"
   ]
  },
  {
   "cell_type": "code",
   "execution_count": null,
   "metadata": {},
   "outputs": [],
   "source": [
    "# Run preprocessing\n",
    "spike_file_names = [f'raw_spikes_exc_{idx}.npy' for idx in range(num_sims)]\n",
    "\n",
    "run_preprocessing(working_dir, spike_file_names, sigma=10.0, pool_size=10)"
   ]
  },
  {
   "cell_type": "code",
   "execution_count": 9,
   "metadata": {},
   "outputs": [
    {
     "name": "stderr",
     "output_type": "stream",
     "text": [
      "100%|██████████| 10/10 [09:25<00:00, 56.50s/it]"
     ]
    },
    {
     "name": "stdout",
     "output_type": "stream",
     "text": [
      "INFO: 10 files merged into \"/gpfs/bbp.cscs.ch/data/scratch/proj83/home/pokorny/SimplifiedConnectomeModels/bbp_workflow_v2/38bef0c5-48cd-479e-8a74-0d46166f00c2/working_dir/processed_data_store.h5\"\n"
     ]
    },
    {
     "name": "stderr",
     "output_type": "stream",
     "text": [
      "\n"
     ]
    }
   ],
   "source": [
    "# Merge individual preprocessed spike files into .h5 data store\n",
    "#   split_by_gid==False ... Datasets per sim\n",
    "#   split_by_gid==True  ... Datasets per sim & GID\n",
    "tmp_file_names = [f'spike_signals_exc_{idx}__tmp__.npz' for idx in range(num_sims)]\n",
    "\n",
    "h5_file = merge_into_h5_data_store(working_dir, tmp_file_names, data_store_name='processed_data_store', split_by_gid=False)"
   ]
  },
  {
   "cell_type": "code",
   "execution_count": null,
   "metadata": {},
   "outputs": [],
   "source": []
  },
  {
   "cell_type": "markdown",
   "metadata": {},
   "source": [
    "### 3. Compute firing rates\n",
    "\n",
    "Runs firing rate extraction based on mean inverse inter-spike interval of (excitatory) spike trains [PARALLEL IMPLEMENTATION]"
   ]
  },
  {
   "cell_type": "code",
   "execution_count": 10,
   "metadata": {},
   "outputs": [],
   "source": [
    "from preprocess import run_rate_extraction, merge_rates_to_h5_data_store"
   ]
  },
  {
   "cell_type": "code",
   "execution_count": 11,
   "metadata": {},
   "outputs": [
    {
     "name": "stderr",
     "output_type": "stream",
     "text": [
      "/gpfs/bbp.cscs.ch/home/pokorny/ReWiringKernel/lib/python3.10/site-packages/numpy/core/fromnumeric.py:3464: RuntimeWarning: Mean of empty slice.\n",
      "  return _methods._mean(a, axis=axis, dtype=dtype,\n",
      "/gpfs/bbp.cscs.ch/home/pokorny/ReWiringKernel/lib/python3.10/site-packages/numpy/core/_methods.py:192: RuntimeWarning: invalid value encountered in scalar divide\n",
      "  ret = ret.dtype.type(ret / rcount)\n",
      "/gpfs/bbp.cscs.ch/home/pokorny/ReWiringKernel/lib/python3.10/site-packages/numpy/core/fromnumeric.py:3464: RuntimeWarning: Mean of empty slice.\n",
      "  return _methods._mean(a, axis=axis, dtype=dtype,\n",
      "/gpfs/bbp.cscs.ch/home/pokorny/ReWiringKernel/lib/python3.10/site-packages/numpy/core/_methods.py:192: RuntimeWarning: invalid value encountered in scalar divide\n",
      "  ret = ret.dtype.type(ret / rcount)\n",
      "/gpfs/bbp.cscs.ch/home/pokorny/ReWiringKernel/lib/python3.10/site-packages/numpy/core/fromnumeric.py:3464: RuntimeWarning: Mean of empty slice.\n",
      "  return _methods._mean(a, axis=axis, dtype=dtype,\n",
      "/gpfs/bbp.cscs.ch/home/pokorny/ReWiringKernel/lib/python3.10/site-packages/numpy/core/_methods.py:192: RuntimeWarning: invalid value encountered in scalar divide\n",
      "  ret = ret.dtype.type(ret / rcount)\n",
      "/gpfs/bbp.cscs.ch/home/pokorny/ReWiringKernel/lib/python3.10/site-packages/numpy/core/fromnumeric.py:3464: RuntimeWarning: Mean of empty slice.\n",
      "  return _methods._mean(a, axis=axis, dtype=dtype,\n",
      "/gpfs/bbp.cscs.ch/home/pokorny/ReWiringKernel/lib/python3.10/site-packages/numpy/core/_methods.py:192: RuntimeWarning: invalid value encountered in scalar divide\n",
      "  ret = ret.dtype.type(ret / rcount)\n",
      "/gpfs/bbp.cscs.ch/home/pokorny/ReWiringKernel/lib/python3.10/site-packages/numpy/core/fromnumeric.py:3464: RuntimeWarning: Mean of empty slice.\n",
      "  return _methods._mean(a, axis=axis, dtype=dtype,\n",
      "/gpfs/bbp.cscs.ch/home/pokorny/ReWiringKernel/lib/python3.10/site-packages/numpy/core/_methods.py:192: RuntimeWarning: invalid value encountered in scalar divide\n",
      "  ret = ret.dtype.type(ret / rcount)\n",
      "/gpfs/bbp.cscs.ch/home/pokorny/ReWiringKernel/lib/python3.10/site-packages/numpy/core/fromnumeric.py:3464: RuntimeWarning: Mean of empty slice.\n",
      "  return _methods._mean(a, axis=axis, dtype=dtype,\n",
      "/gpfs/bbp.cscs.ch/home/pokorny/ReWiringKernel/lib/python3.10/site-packages/numpy/core/_methods.py:192: RuntimeWarning: invalid value encountered in scalar divide\n",
      "  ret = ret.dtype.type(ret / rcount)\n",
      "/gpfs/bbp.cscs.ch/home/pokorny/ReWiringKernel/lib/python3.10/site-packages/numpy/core/fromnumeric.py:3464: RuntimeWarning: Mean of empty slice.\n",
      "  return _methods._mean(a, axis=axis, dtype=dtype,\n",
      "/gpfs/bbp.cscs.ch/home/pokorny/ReWiringKernel/lib/python3.10/site-packages/numpy/core/_methods.py:192: RuntimeWarning: invalid value encountered in scalar divide\n",
      "  ret = ret.dtype.type(ret / rcount)\n",
      "/gpfs/bbp.cscs.ch/home/pokorny/ReWiringKernel/lib/python3.10/site-packages/numpy/core/fromnumeric.py:3464: RuntimeWarning: Mean of empty slice.\n",
      "  return _methods._mean(a, axis=axis, dtype=dtype,\n",
      "/gpfs/bbp.cscs.ch/home/pokorny/ReWiringKernel/lib/python3.10/site-packages/numpy/core/_methods.py:192: RuntimeWarning: invalid value encountered in scalar divide\n",
      "  ret = ret.dtype.type(ret / rcount)\n",
      "/gpfs/bbp.cscs.ch/home/pokorny/ReWiringKernel/lib/python3.10/site-packages/numpy/core/fromnumeric.py:3464: RuntimeWarning: Mean of empty slice.\n",
      "  return _methods._mean(a, axis=axis, dtype=dtype,\n",
      "/gpfs/bbp.cscs.ch/home/pokorny/ReWiringKernel/lib/python3.10/site-packages/numpy/core/_methods.py:192: RuntimeWarning: invalid value encountered in scalar divide\n",
      "  ret = ret.dtype.type(ret / rcount)\n",
      "/gpfs/bbp.cscs.ch/home/pokorny/ReWiringKernel/lib/python3.10/site-packages/numpy/core/fromnumeric.py:3464: RuntimeWarning: Mean of empty slice.\n",
      "  return _methods._mean(a, axis=axis, dtype=dtype,\n",
      "/gpfs/bbp.cscs.ch/home/pokorny/ReWiringKernel/lib/python3.10/site-packages/numpy/core/_methods.py:192: RuntimeWarning: invalid value encountered in scalar divide\n",
      "  ret = ret.dtype.type(ret / rcount)\n"
     ]
    },
    {
     "name": "stdout",
     "output_type": "stream",
     "text": [
      "Finished firing rate extraction in 95.650s\n"
     ]
    }
   ],
   "source": [
    "# Run rate extraction\n",
    "spike_file_names = [f'raw_spikes_exc_{idx}.npy' for idx in range(num_sims)]\n",
    "\n",
    "run_rate_extraction(working_dir, spike_file_names, pool_size=30)"
   ]
  },
  {
   "cell_type": "code",
   "execution_count": 12,
   "metadata": {},
   "outputs": [
    {
     "name": "stderr",
     "output_type": "stream",
     "text": [
      "100%|██████████| 10/10 [00:00<00:00, 543.72it/s]"
     ]
    },
    {
     "name": "stdout",
     "output_type": "stream",
     "text": [
      "INFO: 10 files merged and added to \"/gpfs/bbp.cscs.ch/data/scratch/proj83/home/pokorny/SimplifiedConnectomeModels/bbp_workflow_v2/38bef0c5-48cd-479e-8a74-0d46166f00c2/working_dir/processed_data_store.h5\"\n"
     ]
    },
    {
     "name": "stderr",
     "output_type": "stream",
     "text": [
      "\n"
     ]
    }
   ],
   "source": [
    "# Merge individual rate files into .h5 data store\n",
    "tmp_file_names = [f'firing_rates_exc_{idx}__tmp__.npz' for idx in range(num_sims)]\n",
    "\n",
    "h5_file = merge_rates_to_h5_data_store(working_dir, tmp_file_names, data_store_name='processed_data_store', do_overwrite=False)"
   ]
  },
  {
   "cell_type": "code",
   "execution_count": null,
   "metadata": {},
   "outputs": [],
   "source": []
  },
  {
   "cell_type": "markdown",
   "metadata": {},
   "source": [
    "### 4. Extract deleted connections (optional)\n",
    "\n",
    "Adds information about deleted connections to data store (e.g., for block-based designs)\n",
    "\n",
    "ℹ️ Requires .npy files containing deleted connections within sim folders"
   ]
  },
  {
   "cell_type": "code",
   "execution_count": 2,
   "metadata": {},
   "outputs": [],
   "source": [
    "import os\n",
    "from preprocess import merge_removed_conns_to_h5_data_store"
   ]
  },
  {
   "cell_type": "code",
   "execution_count": null,
   "metadata": {},
   "outputs": [],
   "source": [
    "campaign_path = '/gpfs/bbp.cscs.ch/data/scratch/proj9/bisimplices/simulations/BlobStimReliability_O1v5-SONATA_OutConnsRemoved_BlockDesign_Struct'\n",
    "merge_removed_conns_to_h5_data_store(os.path.join(campaign_path, 'working_dir', 'processed_data_store.h5'), campaign_path, 'outgoing_conns_removed.npy')\n",
    "\n",
    "campaign_path = '/gpfs/bbp.cscs.ch/data/scratch/proj9/bisimplices/simulations/BlobStimReliability_O1v5-SONATA_OutConnsRemoved_BlockDesign_Rnd'\n",
    "merge_removed_conns_to_h5_data_store(os.path.join(campaign_path, 'working_dir', 'processed_data_store.h5'), campaign_path, 'outgoing_conns_removed.npy')\n",
    "\n",
    "campaign_path = '/gpfs/bbp.cscs.ch/data/scratch/proj9/bisimplices/simulations/BlobStimReliability_O1v5-SONATA_RecipConnsRemoved_BlockDesign_Struct'\n",
    "merge_removed_conns_to_h5_data_store(os.path.join(campaign_path, 'working_dir', 'processed_data_store.h5'), campaign_path, 'conns_removed.npy')\n",
    "\n",
    "campaign_path = '/gpfs/bbp.cscs.ch/data/scratch/proj9/bisimplices/simulations/BlobStimReliability_O1v5-SONATA_RecipConnsRemoved_BlockDesign_Rnd'\n",
    "merge_removed_conns_to_h5_data_store(os.path.join(campaign_path, 'working_dir', 'processed_data_store.h5'), campaign_path, 'conns_removed.npy')\n"
   ]
  },
  {
   "cell_type": "code",
   "execution_count": null,
   "metadata": {},
   "outputs": [],
   "source": []
  },
  {
   "cell_type": "markdown",
   "metadata": {},
   "source": [
    "__HOW TO LOAD PROCESSED SPIKE SIGNALS, META-INFO, AND RATES FROM .H5 DATA STORE:__\n",
    "~~~\n",
    "h5_store = h5py.File(h5_file, 'r')\n",
    "print(f'Groups/Datasets: {list(h5_store.keys())}')\n",
    "\n",
    "t_bins = np.array(h5_store['t_bins'])\n",
    "gids = np.array(h5_store['gids'])\n",
    "firing_rates = np.array(h5_store['firing_rates'])\n",
    "sigma = np.array(h5_store['sigma']).tolist()\n",
    "if 'mean_centered' in h5_store:  # [Backward compatibility]\n",
    "    mean_centered = np.array(h5_store['mean_centered']).tolist()\n",
    "else:\n",
    "    mean_centered = False\n",
    "\n",
    "print(f'Spike signals per sims: {list(h5_store[\"spike_signals_exc\"].keys())}')\n",
    "if split_by_gid == True:\n",
    "    print(f'Spike signals within sim <SIM_IDX>: {list(h5_store[\"spike_signals_exc/sim_<SIM_IDX>\"].keys())}')\n",
    "    spike_signal = np.array(h5_store[f'spike_signals_exc/sim_{<SIM_IDX>}/gid_{<GID>}'])\n",
    "else:\n",
    "    spike_signals = np.array(h5_store[f'spike_signals_exc/sim_{<SIM_IDX>}'])\n",
    "\n",
    "if 'outgoing_conns_removed' in h5_store: # Sources of removed outgoing connections\n",
    "    outgoing_conns_removed = np.array(h5_store[f'outgoing_conns_removed/sim_{<SIM_IDX>}'])\n",
    "\n",
    "if 'conns_removed' in h5_store: # Sources/targets of removed connections\n",
    "    conns_removed = np.array(h5_store[f'conns_removed/sim_{<SIM_IDX>}'])\n",
    "\n",
    "h5_store.close()\n",
    "~~~"
   ]
  },
  {
   "cell_type": "code",
   "execution_count": null,
   "metadata": {},
   "outputs": [],
   "source": []
  },
  {
   "cell_type": "code",
   "execution_count": null,
   "metadata": {},
   "outputs": [],
   "source": []
  },
  {
   "cell_type": "code",
   "execution_count": null,
   "metadata": {},
   "outputs": [],
   "source": []
  }
 ],
 "metadata": {
  "kernelspec": {
   "display_name": "ReWiringKernel",
   "language": "python",
   "name": "rewiringkernel"
  },
  "language_info": {
   "codemirror_mode": {
    "name": "ipython",
    "version": 3
   },
   "file_extension": ".py",
   "mimetype": "text/x-python",
   "name": "python",
   "nbconvert_exporter": "python",
   "pygments_lexer": "ipython3",
   "version": "3.10.8"
  }
 },
 "nbformat": 4,
 "nbformat_minor": 4
}

{
 "cells": [
  {
   "cell_type": "markdown",
   "metadata": {},
   "source": [
    "# Reliability benchmarking"
   ]
  },
  {
   "cell_type": "code",
   "execution_count": 1,
   "metadata": {},
   "outputs": [],
   "source": [
    "import itertools\n",
    "import numpy as np\n",
    "from scipy.spatial import distance\n",
    "import time\n",
    "import tqdm"
   ]
  },
  {
   "cell_type": "code",
   "execution_count": 2,
   "metadata": {},
   "outputs": [],
   "source": [
    "R = 100 # Bootstrap repetitions\n",
    "k = 10 # Number of seeds to choose\n",
    "\n",
    "num_gids = 1000\n",
    "num_sims = 30\n",
    "T = 16000\n",
    "np.random.seed(0)\n",
    "spike_signals = np.random.rand(num_gids, num_sims, T)\n",
    "spike_signals2 = np.array([spike_signals[:, sidx, :] for sidx in range(num_sims)])"
   ]
  },
  {
   "cell_type": "code",
   "execution_count": null,
   "metadata": {},
   "outputs": [],
   "source": []
  },
  {
   "cell_type": "markdown",
   "metadata": {},
   "source": [
    "### v1: Loop over bootstrap samples, GIDs, and sim pairs"
   ]
  },
  {
   "cell_type": "code",
   "execution_count": 3,
   "metadata": {},
   "outputs": [],
   "source": [
    "def reliability(v1, v2):\n",
    "    \"\"\"Computes reliability of two spike trains.\"\"\"\n",
    "    norm_prod = np.linalg.norm(v1) * np.linalg.norm(v2)\n",
    "    if norm_prod > 0.0:\n",
    "        return np.dot(v1, v2) / norm_prod\n",
    "    else:\n",
    "        return 0.0\n",
    "\n",
    "\n",
    "def avg_reliability(v_filt):\n",
    "    \"\"\"Computes average reliability between all pairs of spike trains.\"\"\"\n",
    "    N_trials = v_filt.shape[0]\n",
    "    avg_rel = 0.0\n",
    "    for i in range(N_trials):\n",
    "        for j in range(i + 1, N_trials):\n",
    "            avg_rel = avg_rel + reliability(v_filt[i, :], v_filt[j, :])\n",
    "    avg_rel = 2 * avg_rel / (N_trials * (N_trials - 1))\n",
    "    return avg_rel"
   ]
  },
  {
   "cell_type": "code",
   "execution_count": 4,
   "metadata": {},
   "outputs": [
    {
     "name": "stderr",
     "output_type": "stream",
     "text": [
      "100%|██████████| 100/100 [02:19<00:00,  1.39s/it]\n"
     ]
    }
   ],
   "source": [
    "np.random.seed(0)\n",
    "for ridx in tqdm.tqdm(range(R)):\n",
    "    sel_idx = np.random.choice(num_sims, k, replace=False)\n",
    "    reliab = np.array([avg_reliability(spike_signals[gidx, sel_idx, :]) for gidx in range(num_gids)])"
   ]
  },
  {
   "cell_type": "code",
   "execution_count": null,
   "metadata": {},
   "outputs": [],
   "source": []
  },
  {
   "cell_type": "markdown",
   "metadata": {},
   "source": [
    "### v2: Loop over boostrap samples and sim pairs for matrices of GIDs"
   ]
  },
  {
   "cell_type": "code",
   "execution_count": 5,
   "metadata": {},
   "outputs": [],
   "source": [
    "def reliability2(v1, v2):\n",
    "    \"\"\"v1/v2: spike signals of two simulations/set of neurons.  Arrays of size # neurons x # time_bins\"\"\"\n",
    "    product_of_norms = (np.linalg.norm(v1, axis=1) * np.linalg.norm(v2, axis=1))\n",
    "    mask_to_normalize_non_zero = (product_of_norms != 0)\n",
    "    reliability = (v1 * v2).sum(axis=1)\n",
    "    reliability[mask_to_normalize_non_zero] = reliability[mask_to_normalize_non_zero] / product_of_norms[\n",
    "        mask_to_normalize_non_zero]\n",
    "    return reliability\n",
    "\n",
    "\n",
    "def avg_reliability2(v_filt):\n",
    "    \"\"\"Computes average reliability between all pairs of trials of a give set.\n",
    "    v_filt: Array spike trains many simuations of shape N_trials x #neurons # time_bins\"\"\"\n",
    "    N_trials = v_filt.shape[0]\n",
    "    avg_rel = np.zeros(v_filt.shape[1])\n",
    "    for i in range(N_trials):\n",
    "        for j in range(i + 1, N_trials):\n",
    "            avg_rel = avg_rel + reliability2(v_filt[i, :, :], v_filt[j, :, :])\n",
    "    avg_rel = 2 * avg_rel / (N_trials * (N_trials - 1))\n",
    "    return avg_rel\n"
   ]
  },
  {
   "cell_type": "code",
   "execution_count": 6,
   "metadata": {},
   "outputs": [
    {
     "name": "stderr",
     "output_type": "stream",
     "text": [
      "100%|██████████| 100/100 [13:48<00:00,  8.29s/it]\n"
     ]
    }
   ],
   "source": [
    "np.random.seed(0)\n",
    "for ridx in tqdm.tqdm(range(R)):\n",
    "    sel_idx = np.random.choice(num_sims, k, replace=False)\n",
    "    reliab2 = avg_reliability2(spike_signals2[sel_idx, :, :])"
   ]
  },
  {
   "cell_type": "code",
   "execution_count": null,
   "metadata": {},
   "outputs": [],
   "source": []
  },
  {
   "cell_type": "markdown",
   "metadata": {},
   "source": [
    "### v3: Loop over GIDs & using scipy's distance function"
   ]
  },
  {
   "cell_type": "code",
   "execution_count": 7,
   "metadata": {},
   "outputs": [],
   "source": [
    "def avg_reliability3(v_filt):\n",
    "    \"\"\"Computes average reliability between all pairs of trials of a give set.\n",
    "        v_filt: Array spike trains many simuations of shape N_trials x #neurons # time_bins\"\"\"\n",
    "    no_cells=v_filt.shape[1]\n",
    "    mean_rels=[(1-distance.pdist(v_filt[:,x,:],'cosine')).mean() for x in range(no_cells)]\n",
    "    return np.array(mean_rels)"
   ]
  },
  {
   "cell_type": "code",
   "execution_count": 8,
   "metadata": {},
   "outputs": [
    {
     "name": "stderr",
     "output_type": "stream",
     "text": [
      "100%|██████████| 100/100 [01:46<00:00,  1.07s/it]\n"
     ]
    }
   ],
   "source": [
    "np.random.seed(0)\n",
    "for ridx in tqdm.tqdm(range(R)):\n",
    "    sel_idx = np.random.choice(num_sims, k, replace=False)\n",
    "    reliab3 = avg_reliability3(spike_signals2[sel_idx, :, :])"
   ]
  },
  {
   "cell_type": "code",
   "execution_count": null,
   "metadata": {},
   "outputs": [],
   "source": []
  },
  {
   "cell_type": "markdown",
   "metadata": {},
   "source": [
    "### v4: Loop over bootstrap samples and GIDs, and optimized cosine similarity function (Andras Ecker's code)"
   ]
  },
  {
   "cell_type": "code",
   "execution_count": 9,
   "metadata": {},
   "outputs": [],
   "source": [
    "# Andras Ecker's implementation from https://github.com/andrisecker/assemblyfire\n",
    "from scipy.spatial.distance import squareform\n",
    "def cosine_similarity(x):\n",
    "    \"\"\"Cosine similarity between rows of matrix\n",
    "    much faster than `1 - squareform(pdist(x, metrix=\"cosine\"))`\"\"\"\n",
    "    x_norm = x / np.linalg.norm(x, axis=-1)[:, np.newaxis]\n",
    "    return np.dot(x_norm, x_norm.T)\n",
    "\n",
    "def avg_reliability4(v_filt):\n",
    "    sim_matrix = cosine_similarity(v_filt)\n",
    "    # squareform implements its inverse if the input is a square matrix (but the diagonal has to be 0.)\n",
    "    np.fill_diagonal(sim_matrix, 0)  # stupid numpy...\n",
    "    r_spikes = np.mean(squareform(sim_matrix))\n",
    "    return r_spikes"
   ]
  },
  {
   "cell_type": "code",
   "execution_count": 10,
   "metadata": {},
   "outputs": [
    {
     "name": "stderr",
     "output_type": "stream",
     "text": [
      "100%|██████████| 100/100 [01:42<00:00,  1.03s/it]\n"
     ]
    }
   ],
   "source": [
    "np.random.seed(0)\n",
    "for ridx in tqdm.tqdm(range(R)):\n",
    "    sel_idx = np.random.choice(num_sims, k, replace=False)\n",
    "    reliab4 = np.array([avg_reliability4(spike_signals[gidx, sel_idx, :]) for gidx in range(num_gids)])"
   ]
  },
  {
   "cell_type": "code",
   "execution_count": null,
   "metadata": {},
   "outputs": [],
   "source": []
  },
  {
   "cell_type": "code",
   "execution_count": 11,
   "metadata": {},
   "outputs": [
    {
     "name": "stdout",
     "output_type": "stream",
     "text": [
      "Max. reliability differences: 5.551115123125783e-16, 9.992007221626409e-16, 4.440892098500626e-16\n"
     ]
    }
   ],
   "source": [
    "print(f'Max. reliability differences: {np.max(np.abs(reliab - reliab2))}, {np.max(np.abs(reliab - reliab3))}, {np.max(np.abs(reliab - reliab4))}')"
   ]
  },
  {
   "cell_type": "code",
   "execution_count": null,
   "metadata": {},
   "outputs": [],
   "source": []
  },
  {
   "cell_type": "markdown",
   "metadata": {},
   "source": [
    "### Test inner function"
   ]
  },
  {
   "cell_type": "code",
   "execution_count": 65,
   "metadata": {},
   "outputs": [],
   "source": [
    "num_gids = 100\n",
    "\n",
    "np.random.seed(0)\n",
    "v_filt1 = np.random.rand(num_gids, T)\n",
    "v_filt2 = np.random.rand(num_gids, T)"
   ]
  },
  {
   "cell_type": "code",
   "execution_count": 66,
   "metadata": {},
   "outputs": [
    {
     "name": "stdout",
     "output_type": "stream",
     "text": [
      "Elapsed time: 3.367ms\n"
     ]
    }
   ],
   "source": [
    "#v1\n",
    "t0 = time.time()\n",
    "rel1 = [reliability(v_filt1[gidx, :], v_filt2[gidx, :]) for gidx in range(num_gids)]\n",
    "print(f'Elapsed time: {1e3 * (time.time() - t0):.3f}ms')"
   ]
  },
  {
   "cell_type": "code",
   "execution_count": 67,
   "metadata": {},
   "outputs": [
    {
     "name": "stdout",
     "output_type": "stream",
     "text": [
      "Elapsed time: 10.542ms\n"
     ]
    }
   ],
   "source": [
    "# v2\n",
    "t0 = time.time()\n",
    "rel2 = reliability2(v_filt1, v_filt2)\n",
    "print(f'Elapsed time: {1e3 * (time.time() - t0):.3f}ms')"
   ]
  },
  {
   "cell_type": "code",
   "execution_count": 69,
   "metadata": {},
   "outputs": [
    {
     "name": "stdout",
     "output_type": "stream",
     "text": [
      "Max. reliability difference: 4.440892098500626e-16\n"
     ]
    }
   ],
   "source": [
    "print(f'Max. reliability difference: {np.max(np.abs(rel1 - rel2))}')"
   ]
  },
  {
   "cell_type": "code",
   "execution_count": null,
   "metadata": {},
   "outputs": [],
   "source": []
  },
  {
   "cell_type": "code",
   "execution_count": 98,
   "metadata": {},
   "outputs": [],
   "source": [
    "num_gids_list = [10, 100, 1000, 10000]\n",
    "t1_ms = np.full(len(num_gids_list), np.nan)\n",
    "t2_ms = np.full(len(num_gids_list), np.nan)\n",
    "for idx, num_gids in enumerate(num_gids_list):\n",
    "    np.random.seed(0)\n",
    "    v_filt1 = np.random.rand(num_gids, T)\n",
    "    v_filt2 = np.random.rand(num_gids, T)\n",
    "    #v1\n",
    "    t0 = time.time()\n",
    "    rel1 = [reliability(v_filt1[gidx, :], v_filt2[gidx, :]) for gidx in range(num_gids)]\n",
    "    t1_ms[idx] = 1e3 * (time.time() - t0)\n",
    "    # v2\n",
    "    t0 = time.time()\n",
    "    rel2 = reliability2(v_filt1, v_filt2)\n",
    "    t2_ms[idx] = 1e3 * (time.time() - t0)\n",
    "\n",
    "    assert np.allclose(rel1, rel1)"
   ]
  },
  {
   "cell_type": "code",
   "execution_count": 99,
   "metadata": {},
   "outputs": [
    {
     "name": "stdout",
     "output_type": "stream",
     "text": [
      "t1 (ms): 1.402, 3.520, 35.815, 355.499\n",
      "t2 (ms): 0.987, 12.927, 175.652, 1796.744\n"
     ]
    }
   ],
   "source": [
    "print('t1 (ms): ' + ', '.join([f'{t:.3f}' for t in t1_ms]))\n",
    "print('t2 (ms): ' + ', '.join([f'{t:.3f}' for t in t2_ms]))"
   ]
  },
  {
   "cell_type": "code",
   "execution_count": 100,
   "metadata": {},
   "outputs": [
    {
     "data": {
      "image/png": "[encoded data removed]",
      "text/plain": [
       "<Figure size 432x288 with 1 Axes>"
      ]
     },
     "metadata": {
      "needs_background": "light"
     },
     "output_type": "display_data"
    }
   ],
   "source": [
    "import matplotlib.pyplot as plt\n",
    "\n",
    "plt.figure()\n",
    "plt.plot(num_gids_list, t1_ms, '.-', label='v1')\n",
    "plt.plot(num_gids_list, t2_ms, '.-', label='v2')\n",
    "# plt.xscale('log')\n",
    "# plt.yscale('log')\n",
    "plt.xlabel('#GIDs')\n",
    "plt.ylabel('Runtime (ms)')\n",
    "plt.legend()\n",
    "plt.show()"
   ]
  },
  {
   "cell_type": "code",
   "execution_count": null,
   "metadata": {},
   "outputs": [],
   "source": []
  }
 ],
 "metadata": {
  "kernelspec": {
   "display_name": "BbpWorkflowKernel",
   "language": "python",
   "name": "bbpworkflowkernel"
  },
  "language_info": {
   "codemirror_mode": {
    "name": "ipython",
    "version": 3
   },
   "file_extension": ".py",
   "mimetype": "text/x-python",
   "name": "python",
   "nbconvert_exporter": "python",
   "pygments_lexer": "ipython3",
   "version": "3.9.7"
  }
 },
 "nbformat": 4,
 "nbformat_minor": 4
}

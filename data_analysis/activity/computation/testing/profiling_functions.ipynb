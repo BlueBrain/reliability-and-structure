{
 "cells": [
  {
   "cell_type": "code",
   "execution_count": 1,
   "metadata": {},
   "outputs": [],
   "source": [
    "import numpy as np\n",
    "from scipy.spatial import distance\n",
    "import itertools"
   ]
  },
  {
   "cell_type": "code",
   "execution_count": 2,
   "metadata": {},
   "outputs": [],
   "source": [
    "def reliability(v1, v2):\n",
    "    \"\"\"v1/v2: spike signals of two simulations/set of neurons.  Arrays of size # neurons x # time_bins\"\"\"\n",
    "    product_of_norms = (np.linalg.norm(v1, axis=1) * np.linalg.norm(v2, axis=1))\n",
    "    #mask_to_normalize_non_zero = (product_of_norms != 0)\n",
    "    reliability = np.multiply(v1 , v2).sum(axis=1)\n",
    "    reliability=np.divide(reliability,product_of_norms,where=(product_of_norms != 0))\n",
    "    #reliability[mask_to_normalize_non_zero] = reliability[mask_to_normalize_non_zero] / product_of_norms[\n",
    "        #mask_to_normalize_non_zero]\n",
    "    return reliability\n",
    "\n",
    "def reliability_cell(v1, v2):\n",
    "    \"\"\"Computes reliability of two spike trains.\"\"\"\n",
    "    product_of_norms=np.linalg.norm(v1) * np.linalg.norm(v2)\n",
    "    if  product_of_norms> 0.0:\n",
    "        return np.dot(v1, v2) / product_of_norms\n",
    "    else:\n",
    "        return 0.0"
   ]
  },
  {
   "cell_type": "markdown",
   "metadata": {},
   "source": [
    "# Testing inner function "
   ]
  },
  {
   "cell_type": "code",
   "execution_count": 3,
   "metadata": {},
   "outputs": [],
   "source": [
    "#Generate fake data set\n",
    "k=10 #number of sims \n",
    "gids=260#00 #number of cells\n",
    "tbins=160#00 #number of timebins\n",
    "\n",
    "ss1=np.random.normal(loc=0.25,scale=0.3,size=(gids,tbins))\n",
    "ss2=np.random.normal(loc=0.25,scale=0.3,size=(gids,tbins))\n",
    "ss1=ss1-ss1.mean();ss2=ss2-ss2.mean();"
   ]
  },
  {
   "cell_type": "code",
   "execution_count": 4,
   "metadata": {},
   "outputs": [
    {
     "name": "stdout",
     "output_type": "stream",
     "text": [
      "CPU times: user 289 µs, sys: 1.23 ms, total: 1.52 ms\n",
      "Wall time: 953 µs\n"
     ]
    },
    {
     "data": {
      "text/plain": [
       "(260,)"
      ]
     },
     "execution_count": 4,
     "metadata": {},
     "output_type": "execute_result"
    }
   ],
   "source": [
    "%%time \n",
    "rels_noloop=reliability(ss1,ss2)\n",
    "rels_noloop.shape"
   ]
  },
  {
   "cell_type": "code",
   "execution_count": 5,
   "metadata": {},
   "outputs": [
    {
     "name": "stdout",
     "output_type": "stream",
     "text": [
      "CPU times: user 7.43 ms, sys: 6.26 ms, total: 13.7 ms\n",
      "Wall time: 7.8 ms\n"
     ]
    },
    {
     "data": {
      "text/plain": [
       "(260,)"
      ]
     },
     "execution_count": 5,
     "metadata": {},
     "output_type": "execute_result"
    }
   ],
   "source": [
    "%%time\n",
    "rels_loop=[reliability_cell(ss1[x,:], ss2[x,:]) for x in range(gids)]\n",
    "rels_loop=np.array(rels_loop)\n",
    "rels_loop.shape"
   ]
  },
  {
   "cell_type": "code",
   "execution_count": 6,
   "metadata": {},
   "outputs": [
    {
     "name": "stdout",
     "output_type": "stream",
     "text": [
      "CPU times: user 7.93 ms, sys: 3.7 ms, total: 11.6 ms\n",
      "Wall time: 8.27 ms\n"
     ]
    }
   ],
   "source": [
    "%%time\n",
    "x=1-np.array([distance.pdist(np.stack([ss1[x,:],ss2[x,:]]),'cosine')[0] for x in range(gids)])"
   ]
  },
  {
   "cell_type": "code",
   "execution_count": 7,
   "metadata": {},
   "outputs": [
    {
     "name": "stdout",
     "output_type": "stream",
     "text": [
      "All the same? True\n"
     ]
    }
   ],
   "source": [
    "print(\"All the same?\", np.allclose(rels_loop,rels_noloop)&np.allclose(x,rels_noloop))"
   ]
  },
  {
   "cell_type": "code",
   "execution_count": 8,
   "metadata": {},
   "outputs": [],
   "source": [
    "#Generate fake data set\n",
    "k=10 #number of sims \n",
    "gids=2600#0 #number of cells\n",
    "tbins=1600#0 #number of timebins\n",
    "\n",
    "ss1=np.random.normal(loc=0.25,scale=0.3,size=(gids,tbins))\n",
    "ss2=np.random.normal(loc=0.25,scale=0.3,size=(gids,tbins))"
   ]
  },
  {
   "cell_type": "code",
   "execution_count": 9,
   "metadata": {},
   "outputs": [
    {
     "name": "stdout",
     "output_type": "stream",
     "text": [
      "CPU times: user 23.6 ms, sys: 20.4 ms, total: 44 ms\n",
      "Wall time: 41.8 ms\n"
     ]
    }
   ],
   "source": [
    "%%time \n",
    "rels_noloop=reliability(ss1,ss2)"
   ]
  },
  {
   "cell_type": "code",
   "execution_count": 10,
   "metadata": {},
   "outputs": [
    {
     "name": "stdout",
     "output_type": "stream",
     "text": [
      "CPU times: user 70.6 ms, sys: 16.2 ms, total: 86.8 ms\n",
      "Wall time: 67.4 ms\n"
     ]
    }
   ],
   "source": [
    "%%time\n",
    "rels_loop=[reliability_cell(ss1[x,:], ss2[x,:]) for x in range(gids)]\n",
    "rels_loop=np.array(rels_loop)"
   ]
  },
  {
   "cell_type": "code",
   "execution_count": 11,
   "metadata": {},
   "outputs": [
    {
     "name": "stdout",
     "output_type": "stream",
     "text": [
      "CPU times: user 55.6 ms, sys: 294 µs, total: 55.9 ms\n",
      "Wall time: 55.1 ms\n"
     ]
    }
   ],
   "source": [
    "%%time\n",
    "x=1-np.array([distance.pdist(np.stack([ss1[x,:],ss2[x,:]]),'cosine')[0] for x in range(gids)])"
   ]
  },
  {
   "cell_type": "code",
   "execution_count": 12,
   "metadata": {},
   "outputs": [
    {
     "name": "stdout",
     "output_type": "stream",
     "text": [
      "All the same? True\n"
     ]
    }
   ],
   "source": [
    "print(\"All the same?\", np.allclose(rels_loop,rels_noloop)&np.allclose(x,rels_noloop))"
   ]
  },
  {
   "cell_type": "code",
   "execution_count": 13,
   "metadata": {},
   "outputs": [],
   "source": [
    "#Generate fake data set\n",
    "k=10 #number of sims \n",
    "gids=26000 #number of cells\n",
    "tbins=16000 #number of timebins\n",
    "\n",
    "ss1=np.random.normal(loc=0.25,scale=0.3,size=(gids,tbins))\n",
    "ss2=np.random.normal(loc=0.25,scale=0.3,size=(gids,tbins))"
   ]
  },
  {
   "cell_type": "code",
   "execution_count": 14,
   "metadata": {},
   "outputs": [
    {
     "name": "stdout",
     "output_type": "stream",
     "text": [
      "CPU times: user 2.78 s, sys: 2.01 s, total: 4.79 s\n",
      "Wall time: 4.79 s\n"
     ]
    }
   ],
   "source": [
    "%%time \n",
    "rels_noloop=reliability(ss1,ss2)"
   ]
  },
  {
   "cell_type": "code",
   "execution_count": 15,
   "metadata": {},
   "outputs": [
    {
     "name": "stdout",
     "output_type": "stream",
     "text": [
      "CPU times: user 5.07 s, sys: 4.53 s, total: 9.6 s\n",
      "Wall time: 2.54 s\n"
     ]
    }
   ],
   "source": [
    "%%time\n",
    "rels_loop=[reliability_cell(ss1[x,:], ss2[x,:]) for x in range(gids)]\n",
    "rels_loop=np.array(rels_loop)"
   ]
  },
  {
   "cell_type": "code",
   "execution_count": 16,
   "metadata": {},
   "outputs": [
    {
     "name": "stdout",
     "output_type": "stream",
     "text": [
      "CPU times: user 2.65 s, sys: 197 ms, total: 2.85 s\n",
      "Wall time: 2.55 s\n"
     ]
    }
   ],
   "source": [
    "%%time\n",
    "x=1-np.array([distance.pdist(np.stack([ss1[x,:],ss2[x,:]]),'cosine')[0] for x in range(gids)])"
   ]
  },
  {
   "cell_type": "code",
   "execution_count": 17,
   "metadata": {},
   "outputs": [
    {
     "name": "stdout",
     "output_type": "stream",
     "text": [
      "All the same? True\n"
     ]
    }
   ],
   "source": [
    "print(\"All the same?\", np.allclose(rels_loop,rels_noloop)&np.allclose(x,rels_noloop))"
   ]
  },
  {
   "cell_type": "markdown",
   "metadata": {},
   "source": [
    "#  Testing outer function "
   ]
  },
  {
   "cell_type": "code",
   "execution_count": 18,
   "metadata": {},
   "outputs": [],
   "source": [
    "def avg_reliability(v_filt):\n",
    "    \"\"\"Computes average reliability between all pairs of trials of a give set.\n",
    "    v_filt: Array spike trains many simuations of shape N_trials x #neuronss # time_bins\"\"\"\n",
    "    N_trials = v_filt.shape[0]\n",
    "    avg_rel = np.zeros(v_filt.shape[1])\n",
    "    for i in range(N_trials):\n",
    "        x=v_filt[i, :, :]\n",
    "        for j in np.arange(i+1,N_trials):\n",
    "            y=v_filt[j, :, :]\n",
    "            avg_rel = avg_rel + reliability(x, y)\n",
    "    avg_rel = 2 * avg_rel / (N_trials * (N_trials - 1))\n",
    "    return avg_rel\n",
    "def avg_reliability_noloop(v_filt):\n",
    "    \"\"\"Computes average reliability between all pairs of spike trains.\"\"\"\n",
    "    N_trials = v_filt.shape[0] #number of trials\n",
    "    avg_rel = 0.0\n",
    "    for i,j in itertools.combinations(range(N_trials),2):\n",
    "        avg_rel = avg_rel + reliability_cell(v_filt[i, :], v_filt[j, :])\n",
    "    avg_rel = 2 * avg_rel / (N_trials * (N_trials - 1))\n",
    "    return avg_rel\n",
    "def avg_reliability_scipy(v_filt):\n",
    "    \"\"\"Computes average reliability between all pairs of trials of a give set.\n",
    "        v_filt: Array spike trains many simuations of shape N_trials x #neuronss # time_bins\"\"\"\n",
    "    no_cells=v_filt.shape[1]\n",
    "    mean_rels=[(1-distance.pdist(v_filt[:,x,:],'cosine')).mean() for x in range(no_cells)]\n",
    "    return np.array(mean_rels)"
   ]
  },
  {
   "cell_type": "code",
   "execution_count": 19,
   "metadata": {},
   "outputs": [],
   "source": [
    "#Generate fake data set\n",
    "k=10 #number of sims \n",
    "gids=260#00 #number of cells\n",
    "tbins=160#00 #number of timebins\n",
    "\n",
    "ss=np.random.normal(loc=0.25,scale=0.3,size=(k, gids,tbins))"
   ]
  },
  {
   "cell_type": "code",
   "execution_count": 20,
   "metadata": {},
   "outputs": [
    {
     "name": "stdout",
     "output_type": "stream",
     "text": [
      "CPU times: user 10.3 ms, sys: 0 ns, total: 10.3 ms\n",
      "Wall time: 9.14 ms\n"
     ]
    }
   ],
   "source": [
    "%%time \n",
    "rels_noloop=avg_reliability(ss)"
   ]
  },
  {
   "cell_type": "code",
   "execution_count": 21,
   "metadata": {},
   "outputs": [
    {
     "name": "stdout",
     "output_type": "stream",
     "text": [
      "CPU times: user 182 ms, sys: 31.4 ms, total: 214 ms\n",
      "Wall time: 180 ms\n"
     ]
    }
   ],
   "source": [
    "%%time \n",
    "rels_loop=np.array([avg_reliability_noloop(ss[:,x,:]) for x in range(gids)])"
   ]
  },
  {
   "cell_type": "code",
   "execution_count": 22,
   "metadata": {
    "scrolled": true
   },
   "outputs": [
    {
     "name": "stdout",
     "output_type": "stream",
     "text": [
      "CPU times: user 8.68 ms, sys: 125 µs, total: 8.81 ms\n",
      "Wall time: 7.88 ms\n"
     ]
    }
   ],
   "source": [
    "%%time \n",
    "rels_scipy=avg_reliability_scipy(ss)"
   ]
  },
  {
   "cell_type": "code",
   "execution_count": 23,
   "metadata": {},
   "outputs": [
    {
     "name": "stdout",
     "output_type": "stream",
     "text": [
      "All the same? True\n"
     ]
    }
   ],
   "source": [
    "print(\"All the same?\", np.allclose(rels_scipy, rels_loop)&np.allclose(rels_noloop, rels_loop))"
   ]
  },
  {
   "cell_type": "code",
   "execution_count": 24,
   "metadata": {},
   "outputs": [],
   "source": [
    "#Generate fake data set\n",
    "k=10 #number of sims \n",
    "gids=2600 #number of cells\n",
    "tbins=1600 #number of timebins\n",
    "\n",
    "ss=np.random.normal(loc=0.25,scale=0.3,size=(k, gids,tbins))"
   ]
  },
  {
   "cell_type": "code",
   "execution_count": 25,
   "metadata": {},
   "outputs": [
    {
     "name": "stdout",
     "output_type": "stream",
     "text": [
      "CPU times: user 1.39 s, sys: 865 µs, total: 1.39 s\n",
      "Wall time: 1.39 s\n"
     ]
    }
   ],
   "source": [
    "%%time \n",
    "rels_noloop=avg_reliability(ss)"
   ]
  },
  {
   "cell_type": "code",
   "execution_count": 26,
   "metadata": {},
   "outputs": [
    {
     "name": "stdout",
     "output_type": "stream",
     "text": [
      "CPU times: user 2.08 s, sys: 32.3 ms, total: 2.12 s\n",
      "Wall time: 2.08 s\n"
     ]
    }
   ],
   "source": [
    "%%time \n",
    "rels_loop=np.array([avg_reliability_noloop(ss[:,x,:]) for x in range(gids)])"
   ]
  },
  {
   "cell_type": "code",
   "execution_count": 27,
   "metadata": {
    "scrolled": true
   },
   "outputs": [
    {
     "name": "stdout",
     "output_type": "stream",
     "text": [
      "CPU times: user 270 ms, sys: 769 µs, total: 271 ms\n",
      "Wall time: 270 ms\n"
     ]
    }
   ],
   "source": [
    "%%time \n",
    "rels_scipy=avg_reliability_scipy(ss)"
   ]
  },
  {
   "cell_type": "code",
   "execution_count": 28,
   "metadata": {},
   "outputs": [
    {
     "name": "stdout",
     "output_type": "stream",
     "text": [
      "All the same? True\n"
     ]
    }
   ],
   "source": [
    "print(\"All the same?\", np.allclose(rels_scipy, rels_loop)&np.allclose(rels_noloop, rels_loop))"
   ]
  },
  {
   "cell_type": "code",
   "execution_count": 29,
   "metadata": {},
   "outputs": [],
   "source": [
    "#Generate fake data set\n",
    "k=10 #number of sims \n",
    "gids=26000//5 #number of cells\n",
    "tbins=16000//5 #number of timebins\n",
    "\n",
    "ss=np.random.normal(loc=0.25,scale=0.3,size=(k, gids,tbins))"
   ]
  },
  {
   "cell_type": "code",
   "execution_count": 30,
   "metadata": {},
   "outputs": [
    {
     "name": "stdout",
     "output_type": "stream",
     "text": [
      "CPU times: user 4.93 s, sys: 3.7 s, total: 8.63 s\n",
      "Wall time: 8.63 s\n"
     ]
    }
   ],
   "source": [
    "%%time \n",
    "rels_noloop=avg_reliability(ss)"
   ]
  },
  {
   "cell_type": "code",
   "execution_count": 31,
   "metadata": {},
   "outputs": [
    {
     "name": "stdout",
     "output_type": "stream",
     "text": [
      "CPU times: user 4.57 s, sys: 4.34 ms, total: 4.58 s\n",
      "Wall time: 4.58 s\n"
     ]
    }
   ],
   "source": [
    "%%time \n",
    "rels_loop=np.array([avg_reliability_noloop(ss[:,x,:]) for x in range(gids)])"
   ]
  },
  {
   "cell_type": "code",
   "execution_count": 32,
   "metadata": {
    "scrolled": true
   },
   "outputs": [
    {
     "name": "stdout",
     "output_type": "stream",
     "text": [
      "CPU times: user 1.08 s, sys: 51 µs, total: 1.08 s\n",
      "Wall time: 1.08 s\n"
     ]
    }
   ],
   "source": [
    "%%time \n",
    "rels_scipy=avg_reliability_scipy(ss)"
   ]
  },
  {
   "cell_type": "code",
   "execution_count": 33,
   "metadata": {},
   "outputs": [
    {
     "name": "stdout",
     "output_type": "stream",
     "text": [
      "All the same? True\n"
     ]
    }
   ],
   "source": [
    "print(\"All the same?\", np.allclose(rels_scipy, rels_loop)&np.allclose(rels_noloop, rels_loop))"
   ]
  },
  {
   "cell_type": "code",
   "execution_count": 34,
   "metadata": {},
   "outputs": [],
   "source": [
    "#Generate fake data set\n",
    "k=10 #number of sims \n",
    "gids=26000 #number of cells\n",
    "tbins=16000 #number of timebins\n",
    "\n",
    "ss=np.random.normal(loc=0.25,scale=0.3,size=(k, gids,tbins))"
   ]
  },
  {
   "cell_type": "code",
   "execution_count": 35,
   "metadata": {},
   "outputs": [
    {
     "name": "stdout",
     "output_type": "stream",
     "text": [
      "CPU times: user 2min 5s, sys: 1min 31s, total: 3min 36s\n",
      "Wall time: 3min 36s\n"
     ]
    }
   ],
   "source": [
    "%%time \n",
    "rels_noloop=avg_reliability(ss)"
   ]
  },
  {
   "cell_type": "code",
   "execution_count": 36,
   "metadata": {},
   "outputs": [
    {
     "name": "stdout",
     "output_type": "stream",
     "text": [
      "CPU times: user 3min 1s, sys: 2min 52s, total: 5min 53s\n",
      "Wall time: 1min 28s\n"
     ]
    }
   ],
   "source": [
    "%%time \n",
    "rels_loop=np.array([avg_reliability_noloop(ss[:,x,:]) for x in range(gids)])"
   ]
  },
  {
   "cell_type": "code",
   "execution_count": 37,
   "metadata": {
    "scrolled": true
   },
   "outputs": [
    {
     "name": "stdout",
     "output_type": "stream",
     "text": [
      "CPU times: user 25.4 s, sys: 208 ms, total: 25.6 s\n",
      "Wall time: 25.3 s\n"
     ]
    }
   ],
   "source": [
    "%%time \n",
    "rels_scipy=avg_reliability_scipy(ss)"
   ]
  },
  {
   "cell_type": "code",
   "execution_count": 38,
   "metadata": {},
   "outputs": [
    {
     "name": "stdout",
     "output_type": "stream",
     "text": [
      "All the same? True\n"
     ]
    }
   ],
   "source": [
    "print(\"All the same?\", np.allclose(rels_scipy, rels_loop)&np.allclose(rels_noloop, rels_loop))"
   ]
  },
  {
   "cell_type": "code",
   "execution_count": null,
   "metadata": {},
   "outputs": [],
   "source": []
  },
  {
   "cell_type": "code",
   "execution_count": null,
   "metadata": {},
   "outputs": [],
   "source": []
  }
 ],
 "metadata": {
  "kernelspec": {
   "display_name": "Python 3",
   "language": "python",
   "name": "python3"
  },
  "language_info": {
   "codemirror_mode": {
    "name": "ipython",
    "version": 3
   },
   "file_extension": ".py",
   "mimetype": "text/x-python",
   "name": "python",
   "nbconvert_exporter": "python",
   "pygments_lexer": "ipython3",
   "version": "3.7.4"
  }
 },
 "nbformat": 4,
 "nbformat_minor": 5
}

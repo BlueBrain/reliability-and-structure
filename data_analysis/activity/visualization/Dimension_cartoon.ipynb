{
 "cells": [
  {
   "cell_type": "markdown",
   "id": "2d417f94-5f41-45af-a362-346cd1d56487",
   "metadata": {},
   "source": [
    "# Illustrative example of dimension calculation using real data\n",
    "\n",
    "We plot the dimension of activity and compare to to reciprocal density (measured as rc_over_nodes).  The data was precomputed using `../code/compute_activity_dimension.py`"
   ]
  },
  {
   "cell_type": "code",
   "execution_count": 1,
   "id": "43fee03e-fe7d-4b03-a40c-ae854eb6ee97",
   "metadata": {},
   "outputs": [],
   "source": [
    "# General \n",
    "import numpy as np\n",
    "import pandas as pd\n",
    "from scipy import stats\n",
    "# Connectomes and network analysis\n",
    "import conntility\n",
    "from connalysis.network import local \n",
    "# Plotting\n",
    "import matplotlib\n",
    "import matplotlib.pyplot as plt\n",
    "from matplotlib.gridspec import GridSpec\n",
    "import seaborn as sns\n",
    "from matplotlib.colors import LinearSegmentedColormap\n",
    "# Specific to this project\n",
    "import sys \n",
    "sys.path.append('../../../library')\n",
    "from preprocess import load_spike_trains, extract_binned_spike_signals\n",
    "from dimensionality import get_spectrum_nbds, get_dimensions_nbds, get_dimensions"
   ]
  },
  {
   "cell_type": "markdown",
   "id": "c9526e38-2a34-4c82-9fdf-a30329334150",
   "metadata": {},
   "source": [
    "### Get data "
   ]
  },
  {
   "cell_type": "code",
   "execution_count": 2,
   "id": "fe6453da-b500-4214-9fbf-0b2eba8e137d",
   "metadata": {},
   "outputs": [],
   "source": [
    "### Load precomputed data \n",
    "root=\"/gpfs/bbp.cscs.ch/data/scratch/proj9/bisimplices/simulations/Toposample_O1v5-SONATA/\"\n",
    "# Load correlations \n",
    "fname=f\"{root}working_dir/corr_signals_exc.npz\"\n",
    "#fname=f\"{root}working_dir/corr_spikes_exc.npz\"\n",
    "corr=np.load(fname)[\"corr\"]\n",
    "gids=np.load(fname)[\"gids\"]\n",
    "# Load connectivity matrix\n",
    "fname=f\"{root}working_dir/connectome.h5\"\n",
    "conn=conntility.ConnectivityMatrix.from_h5(fname).index(\"synapse_class\").isin(\"EXC\")\n",
    "# Check consistency between activity and structure data\n",
    "assert np.array_equal(conn.gids, gids), \"Gids of connectome dont'match with gids of correlations\"\n",
    "# Load spike trains to resolve nans\n",
    "spikes, _, _ = load_spike_trains(f'{root}/toposample_input/raw_spikes_exc.npy')\n",
    "t_max=160000\n",
    "spike_signals, t_bins = extract_binned_spike_signals(spikes, gids, t_max, bin_size=1.0)"
   ]
  },
  {
   "cell_type": "code",
   "execution_count": 3,
   "id": "660261d5-2dd5-4015-8e0c-5f6f3c3cb5a2",
   "metadata": {},
   "outputs": [],
   "source": [
    "# Load dimension and other properties on neighborhoods\n",
    "props=pd.read_pickle('/gpfs/bbp.cscs.ch/home/egassant/reliability_and_structure/data_analysis/data/props_BBP_original.pkl')\n",
    "dims=pd.read_pickle(\"/gpfs/bbp.cscs.ch/data/scratch/proj9/bisimplices/simulations/Toposample_O1v5-SONATA/working_dir/dimensions_EE_from_signals.pkl\")\n",
    "#dims=pd.read_pickle(\"/gpfs/bbp.cscs.ch/data/scratch/proj9/bisimplices/simulations/Toposample_O1v5-SONATA/working_dir/dimensions_EE_from_spikes.pkl\")\n",
    "props=pd.concat([props, dims],axis=1)\n",
    "props['normalized_dim']=(props['actitivy_dimension']/props['active_ts']).astype(float)\n",
    "props[\"layer\"]=conn.vertices[\"layer\"]\n",
    "thresh=0.01\n",
    "q=props.quantile(q=0.01)\n",
    "Q=props.quantile(q=1-0.01)"
   ]
  },
  {
   "cell_type": "code",
   "execution_count": 4,
   "id": "0605e928-bc02-41e0-a7ee-8628907dcb7e",
   "metadata": {},
   "outputs": [
    {
     "name": "stderr",
     "output_type": "stream",
     "text": [
      "100%|████████████████████████████████████████████████████████████████████████████████████████████████████████████████████| 2/2 [00:00<00:00,  5.74it/s]\n"
     ]
    }
   ],
   "source": [
    "# Select top and bottom cell of rc_over_nodes to make an example \n",
    "base_prop=\"euclidean_edges_sc\" # simplicial complexity\n",
    "cells={}\n",
    "cells['high complexity']=props.sort_values(by=base_prop).index[-1]\n",
    "cells['low complexity']=props.sort_values(by=base_prop).index[0]\n",
    "# Manual override maximimizing/minimizing efficiency for better visualization of the concept\n",
    "cells['high complexity']=22351\n",
    "cells['low complexity']=4363\n",
    "\n",
    "centers=np.array([x[1] for x in cells.items()])  \n",
    "# Compute spectrum of both cells \n",
    "ss=get_spectrum_nbds(conn, corr, spike_signals, centers=centers,  all_nodes=False, not_firing_corr=False)\n",
    "df=pd.DataFrame.from_dict(ss, orient=\"index\").T\n",
    "ss_cum, plot_vals ={}, {}\n",
    "for cell in ss.keys():\n",
    "    ss_cum[cell]=np.cumsum(ss[cell])/ss[cell].sum()\n",
    "    activity_dim,active_ts, _=get_dimensions(ss[cell])\n",
    "    y=ss_cum[cell][:active_ts]; N=y.size; x=(np.arange(N)+1)/N\n",
    "    plot_vals[cell]=(x,y, activity_dim, active_ts)\n",
    "\n",
    "# Getting neighborhood indices\n",
    "nbd_indices=local.neighborhood_indices(conn.matrix, all_nodes=False, centers=centers)\n"
   ]
  },
  {
   "cell_type": "code",
   "execution_count": 5,
   "id": "c11fdb0a-b1b4-4e09-a40b-51bf9b9b3caa",
   "metadata": {},
   "outputs": [
    {
     "name": "stderr",
     "output_type": "stream",
     "text": [
      "/gpfs/bbp.cscs.ch/ssd/slurmTmpFS/egassant/2363245/ipykernel_238122/2020676229.py:4: SettingWithCopyWarning: \n",
      "A value is trying to be set on a copy of a slice from a DataFrame\n",
      "\n",
      "See the caveats in the documentation: https://pandas.pydata.org/pandas-docs/stable/user_guide/indexing.html#returning-a-view-versus-a-copy\n",
      "  props['tribe_sparsity'][(props[base_prop]<=q[base_prop])]='low complexity'\n",
      "/gpfs/bbp.cscs.ch/ssd/slurmTmpFS/egassant/2363245/ipykernel_238122/2020676229.py:8: SettingWithCopyWarning: \n",
      "A value is trying to be set on a copy of a slice from a DataFrame.\n",
      "Try using .loc[row_indexer,col_indexer] = value instead\n",
      "\n",
      "See the caveats in the documentation: https://pandas.pydata.org/pandas-docs/stable/user_guide/indexing.html#returning-a-view-versus-a-copy\n",
      "  data[\"dummy\"]=1\n"
     ]
    }
   ],
   "source": [
    "# Get top and bottom neighborhoods\n",
    "props['tribe_sparsity']=np.nan\n",
    "# Sparse ones\n",
    "props['tribe_sparsity'][(props[base_prop]<=q[base_prop])]='low complexity'\n",
    "# Dense ones\n",
    "props['tribe_sparsity'][(props[base_prop]>=Q[base_prop])]='high complexity'\n",
    "data=props[np.logical_or(props[\"tribe_sparsity\"]==\"high complexity\", props[\"tribe_sparsity\"]==\"low complexity\")]\n",
    "data[\"dummy\"]=1"
   ]
  },
  {
   "cell_type": "markdown",
   "id": "b7ed0814-752b-4f92-8e26-357ea4909360",
   "metadata": {},
   "source": [
    "### Plotting"
   ]
  },
  {
   "cell_type": "code",
   "execution_count": 6,
   "id": "b5007f94-9f50-47ca-a1b1-3a27b0977b6f",
   "metadata": {},
   "outputs": [],
   "source": [
    "# Figure settings and color schemes \n",
    "titlesize=8\n",
    "labelsize=6\n",
    "ticksize=6\n",
    "conversion=2.54\n",
    "#conversion=1.5\n",
    "\n",
    "marker_size=2\n",
    "linewidth=2; linewidth_base=1; linestyle_base=\"dotted\"; alpha_base=0.75\n",
    "\n",
    "# Setting up colors \n",
    "colors={\n",
    "    'high complexity': 'tab:purple', \n",
    "    'low complexity': 'tab:cyan', \n",
    "    2:matplotlib.colormaps[\"Set3\"](0),\n",
    "    3:matplotlib.colormaps[\"Set3\"](2),\n",
    "    4:matplotlib.colormaps[\"Set3\"](5),\n",
    "    5:matplotlib.colormaps[\"Set3\"](4),\n",
    "    6:matplotlib.colormaps[\"Set3\"](3)\n",
    "}\n",
    "cmaps={}\n",
    "for key in ['high complexity', 'low complexity']:\n",
    "    n_bin =  5  # Number of bins to discretizes the interpolation into\n",
    "    cmap_name = key\n",
    "    cmaps[key] = LinearSegmentedColormap.from_list(key, [\"white\", colors[key]], N=n_bin)"
   ]
  },
  {
   "cell_type": "code",
   "execution_count": 7,
   "id": "e46cee86-6f69-4862-88f0-4704857b4c8b",
   "metadata": {},
   "outputs": [],
   "source": [
    "# Plotting functions \n",
    "def plot_champion_ss(ax, cells, xlog=False, ylog=False):\n",
    "    for key in cells.keys():\n",
    "        cell=cells[key]\n",
    "        x,y, activity_dim, active_ts=plot_vals[cell]\n",
    "        ax.axhline(0.9,xmax=props.loc[cell][\"normalized_dim\"]*0.95, color='black', linestyle=\"dotted\")\n",
    "        ax.axvline(activity_dim/active_ts,ymax=0.87, color=colors[key], linestyle=\"dashed\")\n",
    "        ax.plot(x,y, label=key, color=colors[key])\n",
    "        ax.spines[[\"right\", \"top\"]].set_visible(False)\n",
    "        if ylog: ax.set_yscale(\"log\")\n",
    "        if xlog: ax.set_xscale(\"log\")\n",
    "\n",
    "def plot_correlation_nbd(ax, nbd_indices, cells, complexity_class, log_plot=True, diagonal_out=False):\n",
    "    center=cells[complexity_class]\n",
    "    idx=np.append(center, nbd_indices.loc[center])\n",
    "    corr_sub=corr[np.ix_(idx, idx)] # slice of neighborhood\n",
    "    mask=~np.all(np.isnan(corr_sub), axis=1) \n",
    "    corr_sub=corr_sub[mask][:, mask] # removing non-active submatrix\n",
    "    sort_id=np.argsort(corr_sub.sum(axis=1)) \n",
    "    corr_sub=corr_sub[sort_id][:, sort_id] # sort by total sum across row/col for visualization\n",
    "    if log_plot: corr_sub=np.log(corr_sub-2*corr_sub.min()) # Logarithmic values for cmap for better visualization\n",
    "    if diagonal_out: np.fill_diagonal(corr_sub, np.nan) # White space on diagonal\n",
    "    plot=ax.imshow(corr_sub, cmap=cmaps[complexity_class])\n",
    "def scatter_and_regress(ax, data, x_col, y_col, color, marker='o', marker_size=marker_size, label=None):\n",
    "    x=data[x_col]; y=data[y_col] \n",
    "    mask=np.logical_and(~np.isnan(y), ~np.isnan(x))\n",
    "    regress=stats.linregress(x[mask],y[mask])\n",
    "    ax.plot(x, x*regress.slope+regress.intercept, color=color, label=f\"{regress.rvalue:.2f}\")\n",
    "    ax.scatter(x, y, color=color, marker=marker,s=marker_size, label=f\"{label}\",alpha=0.5, zorder=10, rasterized=True )\n",
    "    h, l = ax.get_legend_handles_labels()\n",
    "    return ax, h, l\n",
    "    \n",
    "\n",
    "def plot_relation(ax, add_inset=True, marker_size=marker_size):\n",
    "    x=base_prop; y= \"normalized_dim\"\n",
    "    for layer in np.arange(5)+2:\n",
    "        ax, h, l=scatter_and_regress(ax, props[props[\"layer\"]==layer], x, y, color=colors[layer], marker='o', \n",
    "                                    marker_size=marker_size, label=str(layer)) #add alpha\n",
    "    ax.spines[[\"right\", \"top\"]].set_visible(False)\n",
    "    if add_inset:\n",
    "        left, bottomm, width, height = [0.7, 0.7, 0.3, 0.3]\n",
    "        ax_inset=ax.inset_axes([left, bottomm, width, height])\n",
    "        sns.violinplot(data=data, x=\"dummy\", y=\"normalized_dim\", ax=ax_inset,\n",
    "                       hue=\"tribe_sparsity\", split=True, inner=\"quart\", palette=colors,linewidth=0.001)\n",
    "        ax_inset.get_legend().remove()\n",
    "        ax_inset.spines[[\"left\", \"top\", \"bottom\"]].set_visible(False)\n",
    "        ax_inset.yaxis.set_ticks_position(\"right\")\n",
    "        ax_inset.set_yticks([0.6, 0.9],labels=[0.6, 0.9], fontsize=ticksize)\n",
    "        ax_inset.set_xticks([])\n",
    "        ax_inset.set_xlabel('')\n",
    "        ax_inset.set_ylabel('')\n",
    "    else:\n",
    "        ax_inset=None\n",
    "    return h, l, ax_inset\n"
   ]
  },
  {
   "cell_type": "code",
   "execution_count": 8,
   "id": "7c0c894c-b4ed-418d-b3a8-9109769eae8e",
   "metadata": {},
   "outputs": [
    {
     "data": {
      "image/png": "[encoded data removed]",
      "text/plain": [
       "<Figure size 793.701x132.283 with 5 Axes>"
      ]
     },
     "metadata": {},
     "output_type": "display_data"
    }
   ],
   "source": [
    "width=21*0.8/conversion\n",
    "scale_test=1\n",
    "\n",
    "\n",
    "rows=1; cols=5\n",
    "fig, axs =plt.subplots(rows,cols,figsize=(width*scale_test*1.2, width*rows*scale_test/cols), sharex=False, sharey=False)\n",
    "\n",
    "\n",
    "# Correlation matrices \n",
    "plot_correlation_nbd(axs[2], nbd_indices, cells, 'high complexity', log_plot=True, diagonal_out=False)\n",
    "plot_correlation_nbd(axs[3], nbd_indices, cells, 'low complexity', log_plot=True, diagonal_out=False)\n",
    "axs[2].axis(\"off\")\n",
    "axs[3].axis(\"off\")\n",
    "axs[2].set_title(\"Spike correlation\", fontsize=labelsize)\n",
    "axs[3].set_title(\"Spike correlation\", fontsize=labelsize)\n",
    "\n",
    "\n",
    "# Spectra\n",
    "plot_champion_ss(axs[4], cells, xlog=False, ylog=False)\n",
    "hss, lss=axs[4].get_legend_handles_labels()\n",
    "axs[4].set_yticks([0,1],labels=[0,1], fontsize=ticksize)\n",
    "axs[4].set_xticks([0,0.5, 1],labels=[0,0.5, 1], fontsize=ticksize)\n",
    "axs[4].set_ylabel(\"Cumulative spectrum\", fontsize=labelsize, labelpad=-5)\n",
    "axs[4].set_xlabel(\"Fraction of active readout\", fontsize=labelsize)\n",
    "axs[4].set_title(\"Normalized dimension\", fontsize=labelsize)\n",
    "axs[4].legend(hss, lss, fontsize=labelsize, frameon=False, ncols=2,bbox_to_anchor=(-0.2, -0.15) ) \n",
    "\n",
    "axs[0].axis(\"off\")\n",
    "axs[1].axis(\"off\")\n",
    "\n",
    "\n",
    "\n",
    "fig.savefig(\"figs/dimension_nbds_cartoon.pdf\", bbox_inches='tight', transparent=True)"
   ]
  },
  {
   "cell_type": "code",
   "execution_count": 9,
   "id": "4a1778a2-da5b-4d85-b9f6-6b1c092fbc65",
   "metadata": {},
   "outputs": [
    {
     "data": {
      "text/plain": [
       "Text(0, 0.5, 'Normalized dimension')"
      ]
     },
     "execution_count": 9,
     "metadata": {},
     "output_type": "execute_result"
    },
    {
     "data": {
      "image/png": "[encoded data removed]",
      "text/plain": [
       "<Figure size 602.362x133.858 with 4 Axes>"
      ]
     },
     "metadata": {},
     "output_type": "display_data"
    }
   ],
   "source": [
    "width=15.3/conversion; height=3.4/conversion\n",
    "fig = plt.figure(figsize=(width, height))\n",
    "# Make axes\n",
    "gs = GridSpec(2, 5, figure=fig, wspace=1.2)\n",
    "ax1 = fig.add_subplot(gs[0, 0]) # Correlations 1\n",
    "ax2 = fig.add_subplot(gs[1, 0]) # Correlations 2\n",
    "ax3=fig.add_subplot(gs[:,1:3]) # Spectrum\n",
    "ax4=fig.add_subplot(gs[:,3:5])\n",
    "\n",
    "# Correlation matrices \n",
    "plot_correlation_nbd(ax1, nbd_indices, cells, 'low complexity', log_plot=True, diagonal_out=False)\n",
    "plot_correlation_nbd(ax2, nbd_indices, cells, 'high complexity', log_plot=True, diagonal_out=False)\n",
    "ax1.axis(\"off\")\n",
    "ax2.axis(\"off\")\n",
    "ax1.set_title(\"Correlation\", fontsize=labelsize)\n",
    "\n",
    "\n",
    "# Spectra\n",
    "plot_champion_ss(ax3, cells, xlog=False, ylog=False)\n",
    "hss, lss=ax3.get_legend_handles_labels()\n",
    "ax3.set_yticks([0,1],labels=[0,1], fontsize=ticksize)\n",
    "ax3.set_xticks([0,0.5, 1],labels=[0,0.5, 1], fontsize=ticksize)\n",
    "ax3.set_ylabel(\"Cumulative spectrum\", fontsize=labelsize)\n",
    "ax3.set_xlabel(\"Fraction of active readout\", fontsize=labelsize)\n",
    "ax3.set_title(\"Normalized dimension\", fontsize=labelsize)\n",
    "ax3.legend(hss, lss, fontsize=labelsize, frameon=False, ncols=2,bbox_to_anchor=(0.9, -0.4) )  \n",
    "\n",
    "# Relation and champions\n",
    "h_reg, l_reg, ax_inset =plot_relation(ax4, add_inset=True)\n",
    "ax4.legend(h_reg[1::2], l_reg[1::2], frameon=False, fontsize=labelsize, ncols=5, \n",
    "           #title=\"layer\", title_fontsize=labelsize,\n",
    "           columnspacing = .001, handletextpad=0.1,\n",
    "           bbox_to_anchor=(0.8, -0.5, 0.2, 0.1))\n",
    "ax4.tick_params(labelsize=labelsize)\n",
    "ax4.set_yticks([0.65, 0.75, 0.85])\n",
    "ax4.set_xlabel(\"Simplicial complexity\", fontsize=labelsize)\n",
    "ax4.set_ylabel(\"Normalized dimension\", fontsize=labelsize)\n",
    "\n",
    "#plt.tight_layout()\n",
    "#fig.savefig(\"figs/dimension_nbds.pdf\", bbox_inches='tight', transparent=True) "
   ]
  },
  {
   "cell_type": "code",
   "execution_count": null,
   "id": "367a8c20-458a-4750-ab5f-d3cf724ba337",
   "metadata": {},
   "outputs": [],
   "source": []
  },
  {
   "cell_type": "code",
   "execution_count": null,
   "id": "15bbb4e8-a699-4550-a078-3da680c30cc3",
   "metadata": {},
   "outputs": [],
   "source": []
  },
  {
   "cell_type": "code",
   "execution_count": null,
   "id": "1bf54b38-b1ad-4509-836c-0cfafab6e491",
   "metadata": {},
   "outputs": [],
   "source": []
  },
  {
   "cell_type": "code",
   "execution_count": null,
   "id": "346bc291-1339-40a1-ba34-aef61b6b4668",
   "metadata": {},
   "outputs": [],
   "source": []
  },
  {
   "cell_type": "code",
   "execution_count": null,
   "id": "dc5ebe4c-83df-4667-90e0-aa064f18303d",
   "metadata": {},
   "outputs": [],
   "source": []
  },
  {
   "cell_type": "code",
   "execution_count": null,
   "id": "9a81abfd",
   "metadata": {},
   "outputs": [],
   "source": []
  }
 ],
 "metadata": {
  "kernelspec": {
   "display_name": "Python 3 (ipykernel)",
   "language": "python",
   "name": "python3"
  },
  "language_info": {
   "codemirror_mode": {
    "name": "ipython",
    "version": 3
   },
   "file_extension": ".py",
   "mimetype": "text/x-python",
   "name": "python",
   "nbconvert_exporter": "python",
   "pygments_lexer": "ipython3",
   "version": "3.10.8"
  }
 },
 "nbformat": 4,
 "nbformat_minor": 5
}

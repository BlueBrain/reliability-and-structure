{
 "cells": [
  {
   "cell_type": "markdown",
   "metadata": {},
   "source": [
    "# Preprocessing pipeline for reliability bootstrapping based on block-design-based simulation campaigns\n",
    "1. Extract & cut spike trains\n",
    "2. Compute filtered spike signals & mean-centering"
   ]
  },
  {
   "cell_type": "code",
   "execution_count": null,
   "metadata": {},
   "outputs": [],
   "source": [
    "import sys\n",
    "sys.path.append('../../library')"
   ]
  },
  {
   "cell_type": "code",
   "execution_count": null,
   "metadata": {},
   "outputs": [],
   "source": []
  },
  {
   "cell_type": "markdown",
   "metadata": {},
   "source": [
    "### 1. Extract & cut spike trains\n",
    "\n",
    "Extracts (excitatory) spike trains in format compatible with \"toposample\" pipeline"
   ]
  },
  {
   "cell_type": "code",
   "execution_count": null,
   "metadata": {},
   "outputs": [],
   "source": [
    "from extract import run_extraction"
   ]
  },
  {
   "cell_type": "code",
   "execution_count": null,
   "metadata": {},
   "outputs": [],
   "source": [
    "campaign_path = '/gpfs/bbp.cscs.ch/data/scratch/proj9/bisimplices/simulations/BlobStimReliability_O1v5-SONATA_OutConnsRemoved_BlockDesign_Struct'\n",
    "# campaign_path = '/gpfs/bbp.cscs.ch/data/scratch/proj9/bisimplices/simulations/BlobStimReliability_O1v5-SONATA_OutConnsRemoved_BlockDesign_Rnd'\n",
    "# campaign_path = '/gpfs/bbp.cscs.ch/data/scratch/proj9/bisimplices/simulations/BlobStimReliability_O1v5-SONATA_RecipConnsRemoved_BlockDesign_Struct'\n",
    "# campaign_path = '/gpfs/bbp.cscs.ch/data/scratch/proj9/bisimplices/simulations/BlobStimReliability_O1v5-SONATA_RecipConnsRemoved_BlockDesign_Rnd'\n",
    "\n",
    "sim_paths, working_dir = run_extraction(campaign_path, working_dir_name='working_dir_tmp')"
   ]
  },
  {
   "cell_type": "code",
   "execution_count": null,
   "metadata": {},
   "outputs": [],
   "source": []
  },
  {
   "cell_type": "markdown",
   "metadata": {},
   "source": [
    "### 2. Compute filtered spike signals & mean-centering\n",
    "\n",
    "Runs preprocessing (filtering, mean-centering) of (excitatory) spike trains [PARALLEL IMPLEMENTATION]"
   ]
  },
  {
   "cell_type": "code",
   "execution_count": null,
   "metadata": {},
   "outputs": [],
   "source": [
    "from preprocess import run_preprocessing, merge_into_h5_data_store"
   ]
  },
  {
   "cell_type": "code",
   "execution_count": null,
   "metadata": {},
   "outputs": [],
   "source": [
    "# Run preprocessing\n",
    "spike_file_names = [f'raw_spikes_exc_{idx}.npy' for idx in range(len(sim_paths))]\n",
    "\n",
    "run_preprocessing(working_dir, spike_file_names, sigma=10.0, pool_size=10)"
   ]
  },
  {
   "cell_type": "code",
   "execution_count": null,
   "metadata": {},
   "outputs": [],
   "source": [
    "# Merge individual preprocessed spike files into .h5 data store\n",
    "#   split_by_gid==False ... Datasets per sim\n",
    "#   split_by_gid==True  ... Datasets per sim & GID\n",
    "tmp_file_names = [f'spike_signals_exc_{idx}__tmp__.npz' for idx in range(len(sim_paths))]\n",
    "\n",
    "h5_file = merge_into_h5_data_store(working_dir, tmp_file_names, data_store_name='processed_data_store', split_by_gid=False)"
   ]
  },
  {
   "cell_type": "code",
   "execution_count": null,
   "metadata": {},
   "outputs": [],
   "source": []
  },
  {
   "cell_type": "markdown",
   "metadata": {},
   "source": [
    "__HOW TO LOAD SPIKE SIGNALS FROM .H5 DATA STORE:__\n",
    "~~~\n",
    "h5_store = h5py.File(h5_file)\n",
    "print(f'Groups/Datasets: {list(h5_store.keys())}')\n",
    "t_bins = np.array(h5_store['t_bins'])\n",
    "gids = np.array(h5_store['gids'])\n",
    "print(f'Spike signals per sims: {list(h5_store[\"spike_signals_exc\"].keys())}')\n",
    "if split_by_gid == True:\n",
    "    print(f'Spike signals within sim <SIM_IDX>: {list(h5_store[\"spike_signals_exc\"][\"sim_<SIM_IDX>\"].keys())}')\n",
    "    spike_signal = np.array(h5_store['spike_signals_exc'][f'sim_{<SIM_IDX>}'][f'gid_{<GID>}'])\n",
    "else:\n",
    "    spike_signals = np.array(h5_store['spike_signals_exc'][f'sim_{<SIM_IDX>}'])\n",
    "h5_store.close()\n",
    "~~~"
   ]
  },
  {
   "cell_type": "code",
   "execution_count": null,
   "metadata": {},
   "outputs": [],
   "source": []
  },
  {
   "cell_type": "code",
   "execution_count": null,
   "metadata": {},
   "outputs": [],
   "source": []
  },
  {
   "cell_type": "code",
   "execution_count": null,
   "metadata": {},
   "outputs": [],
   "source": []
  }
 ],
 "metadata": {
  "kernelspec": {
   "display_name": "BbpWorkflowKernel",
   "language": "python",
   "name": "bbpworkflowkernel"
  },
  "language_info": {
   "codemirror_mode": {
    "name": "ipython",
    "version": 3
   },
   "file_extension": ".py",
   "mimetype": "text/x-python",
   "name": "python",
   "nbconvert_exporter": "python",
   "pygments_lexer": "ipython3",
   "version": "3.9.7"
  }
 },
 "nbformat": 4,
 "nbformat_minor": 4
}
